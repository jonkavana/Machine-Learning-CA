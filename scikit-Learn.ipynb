{
 "cells": [
  {
   "cell_type": "markdown",
   "id": "0b41b52f-7d7a-4e87-8f1b-6b3cba7abea3",
   "metadata": {},
   "source": [
    "# Overview of the SciKit-Learn Package\n",
    "\n",
    "***"
   ]
  },
  {
   "cell_type": "markdown",
   "id": "0ecaf350-31b9-47c1-9157-a6e77b452918",
   "metadata": {},
   "source": [
    "### Introduction to SciKit Learn\n",
    "SciKit Learn is a Python based library that can be utilised when developing your Machine Learning based code according to [Machine Learning Mastery](https://machinelearningmastery.com/a-gentle-introduction-to-scikit-learn-a-python-machine-learning-library/) and is built upon the SciPy library. As such, it will develop on and use the following libraries which are built into the [package](https://scikit-learn.org/stable/): \n",
    "> NumPy <br>\n",
    "> SciPy <br>\n",
    "> MatPlotLib <br>\n",
    "\n",
    "Given the importance of the SciPy package in this library, a separate notebook has been created specifically on this topic to provide more in-depth understanding on the area.\n",
    "For further reading/tutorials on the above libraries, please see:<br>\n",
    "> [Realpython.com](https://realpython.com/numpy-tutorial/) for new joiners using NumPy<br>\n",
    "> [Kaggle.com](https://www.kaggle.com/learn/pandas) have a tutorial that will teach how to effectively run commands using Pandas<br>\n",
    "> [W3Schools.com](https://www.w3schools.com/python/matplotlib_intro.asp) have a great tutorial created for new beginners <br>\n",
    "\n",
    "#### Areas for consideration\n",
    "The primary consideration for SciKit, according to [Machine Learning Mastery](https://machinelearningmastery.com/a-gentle-introduction-to-scikit-learn-a-python-machine-learning-library/), is modelling data across several areas, including:\n",
    "- [Regression](https://scikit-learn.org/stable/auto_examples/index.html#examples)\n",
    "- [Classification](https://scikit-learn.org/stable/auto_examples/index.html#classification)\n",
    "- [Clustering](https://scikit-learn.org/stable/auto_examples/index.html#cluster-examples)\n",
    "- [Model Selection](https://scikit-learn.org/stable/auto_examples/index.html#model-selection)\n",
    "- [Preprocessing](https://scikit-learn.org/stable/auto_examples/index.html#preprocessing)\n",
    "- [Dimensionality Reduction](https://scikit-learn.org/stable/auto_examples/index.html#decomposition-examples)\n",
    "\n",
    "There are both supervised and unsupervised components to the official site that can be utilised. The benefits of using the SciKit-Learn package are numerous, but from a learning and development perspective according to [CodeAcademy](https://www.codecademy.com/articles/scikit-learn).\n",
    " Some of the difficulty when attempting the basics of Machine Learning can lie in an understanding over which estimator to use. Fortunately, there is a simple [diagram](https://scikit-learn.org/stable/tutorial/machine_learning_map/index.html) that has been produced by the SciKit-Learn Team to guide the user more effectively to which estimator to be used. \n",
    "\n",
    "#### Modelling Data \n",
    "Given that we know that SciKit-Learn is a package that used for Machine Learning in a Python ecosystem, according to [ActiveState.com](https://www.activestate.com/resources/quick-reads/what-is-scikit-learn-in-python/), we must consider the structure of the SciKit Learn package is in line with the framework of other machine learning packages, and are detailed to a high level below:\n",
    "- Fitting and Predicting\n",
    "- Transform and Pre-process\n",
    "- Model Selection\n",
    "- Model Evaluation\n",
    "There are a series of examples that can be found on the official site, broken down by each area found [here](https://scikit-learn.org/stable/auto_examples/index.html#general-examples). If you are new to the area of machine learning, there is also an extensive range of tutorials that can be viewed [here](https://scikit-learn.org/stable/tutorial/index.html#tutorial-menu)"
   ]
  },
  {
   "cell_type": "markdown",
   "id": "4b46867e-935f-4bfc-94e3-3570635ad047",
   "metadata": {},
   "source": [
    "### Libraries to import\n",
    "***"
   ]
  },
  {
   "cell_type": "code",
   "execution_count": 1,
   "id": "d60d4668-271b-4a9c-99ed-356680e7cff0",
   "metadata": {},
   "outputs": [],
   "source": [
    "import pandas as pd\n",
    "import matplotlib.pyplot as plt\n",
    "import numpy as np\n",
    "from numpy import sqrt\n",
    "import sklearn as skl\n",
    "from sklearn import datasets, linear_model\n",
    "from sklearn.metrics import mean_squared_error, r2_score\n",
    "from sklearn.model_selection import train_test_split\n",
    "from sklearn.tree import DecisionTreeRegressor\n",
    "from sklearn.datasets import load_boston"
   ]
  },
  {
   "cell_type": "markdown",
   "id": "6edf598f-624c-4f0d-be26-5a0e92edbb52",
   "metadata": {
    "tags": []
   },
   "source": [
    "## Analysis of SciKit-Learn Libraries\n",
    "***"
   ]
  },
  {
   "cell_type": "markdown",
   "id": "bf429b3e-d2cb-4e42-80ab-593382ad63c5",
   "metadata": {},
   "source": [
    "As part of the review of this package, there is a requirement to examine and analyse three different algorithms from the SciKit-Learn package. The focus of this review will be centred on the area of analysing Regression.\n",
    "Regression analysis attempts to break down the components of an equation into two categories, according to the [Harvard Business Review](https://hbr.org/2015/11/a-refresher-on-regression-analysis), that is dependent and independent variables. When we speak about the dependent variable, this is the primary variable that we are trying to predict. The independent variable is labelled as such because they have an impact or influence on the dependent variable according to the same source.</br>\n",
    "\n",
    "Within the area of Machine Learning, there are several different models that can be developed on. Models can be adapted to utilise the areas highlighted at the start of this page, such as Regression, Clustering et al. One such area is [Linear Models](https://scikit-learn.org/stable/modules/linear_model.html), and this is where the first two examples on display reside. <br>\n",
    "\n",
    "1. [Linear Regression](https://scikit-learn.org/stable/modules/linear_model.html#generalized-linear-regression)  </br>\n",
    "2. [Decision Trees](https://scikit-learn.org/stable/modules/tree.html#regression)  </br>\n",
    "3. [Least Angle Regression](https://scikit-learn.org/stable/modules/linear_model.html#least-angle-regression) <br>"
   ]
  },
  {
   "cell_type": "markdown",
   "id": "5e72ad56-2173-44df-a960-38cbee286a23",
   "metadata": {},
   "source": [
    "### Linear Regression\n",
    "\n",
    "***"
   ]
  },
  {
   "cell_type": "markdown",
   "id": "2aeedfa3-21a9-4d37-871d-c1fbfce9829d",
   "metadata": {},
   "source": [
    "If you are interested in the area of Linear Regression, there is an abundance of material that can be reviewed subsequent to this notebook. One of the more informed examples of Ordinary Least Squares (OLS) that explains the topic, which I think was most beneficial to me, can be found [here](https://python.plainenglish.io/ols-linear-regression-basics-with-pythons-scikit-learn-4ecfe88145b) through the work of Thiago Carvalho.\n",
    "\n",
    "For further reading there is additional information provided [here](https://riptutorial.com/scikit-learn/example/18378/ordinary-least-squares)"
   ]
  },
  {
   "cell_type": "code",
   "execution_count": 2,
   "id": "a165a856-8ae4-4537-82e3-64534ef92727",
   "metadata": {},
   "outputs": [],
   "source": [
    "# import the specific component of the library that deals with OLS\n",
    "from sklearn import linear_model"
   ]
  },
  {
   "cell_type": "markdown",
   "id": "e442d3fc-314e-445c-9857-dd771b082111",
   "metadata": {},
   "source": [
    "To be able to effectively reproduce the same numbers for this overview of the algorithms, we need to leverage the [seed](https://numpy.org/doc/stable/reference/random/generated/numpy.random.seed.html?highlight=seed#numpy.random.seed) trait that is present in NumPy as detailed in this [TowardsScience.com](https://towardsdatascience.com/stop-using-numpy-random-seed-581a9972805f). By placing a number in the parameter, this allows us to call the array again with no difference in output. Linear Regression as a field of study is vast and has been developed on within the Python environment. For a wider view on the area, there is a larger body of work compiled on [RealPython](https://realpython.com/linear-regression-in-python/)"
   ]
  },
  {
   "cell_type": "markdown",
   "id": "fc7ad092-fb6a-4a10-9ada-e60911a86bf1",
   "metadata": {},
   "source": [
    "##### Setting up the Model"
   ]
  },
  {
   "cell_type": "code",
   "execution_count": 3,
   "id": "a0cf7692-ef2e-4112-8394-5c7a8d487fa5",
   "metadata": {},
   "outputs": [],
   "source": [
    "# Load in our dataset from the SciKit-Learn Package.\n",
    "diabetes_X, diabetes_y = datasets.load_diabetes(return_X_y=True)"
   ]
  },
  {
   "cell_type": "code",
   "execution_count": 4,
   "id": "3f488860-ac3a-4ba2-9377-9b0622bffd52",
   "metadata": {},
   "outputs": [],
   "source": [
    "#Isolate a single feature of the set.\n",
    "diabetes_X = diabetes_X[:, np.newaxis, 2]"
   ]
  },
  {
   "cell_type": "code",
   "execution_count": 5,
   "id": "fef8ae05-f808-4082-b42d-bb9bfc4a8d17",
   "metadata": {},
   "outputs": [],
   "source": [
    "# Split the database out into training\n",
    "diabetes_X_train = diabetes_X[:-20]\n",
    "diabetes_y_train = diabetes_y[:-20]"
   ]
  },
  {
   "cell_type": "code",
   "execution_count": 6,
   "id": "f26f4bb2-bb46-4281-b4fd-59a422637a5e",
   "metadata": {},
   "outputs": [],
   "source": [
    "# Split the database out into testing\n",
    "diabetes_y_test = diabetes_y[-20:]\n",
    "diabetes_X_test = diabetes_X[-20:]"
   ]
  },
  {
   "cell_type": "code",
   "execution_count": 7,
   "id": "a1546a9f-8bc7-4c3f-9c63-c2533342485d",
   "metadata": {},
   "outputs": [],
   "source": [
    "# Set up our Linear Regression model.\n",
    "regression = linear_model.LinearRegression()"
   ]
  },
  {
   "cell_type": "code",
   "execution_count": 8,
   "id": "2db9ef6a-acb3-47f2-95ac-64d9cf74bcc9",
   "metadata": {},
   "outputs": [
    {
     "data": {
      "text/plain": [
       "LinearRegression()"
      ]
     },
     "execution_count": 8,
     "metadata": {},
     "output_type": "execute_result"
    }
   ],
   "source": [
    "# Fitting the Linear Regression to the dataset. \n",
    "regression.fit(diabetes_X_train, diabetes_y_train)"
   ]
  },
  {
   "cell_type": "code",
   "execution_count": 9,
   "id": "144ae0d8-9069-4959-add0-c838bc3bab70",
   "metadata": {},
   "outputs": [],
   "source": [
    "# Produce predictions\n",
    "diabetes_y_pred = regression.predict(diabetes_X_test)"
   ]
  },
  {
   "cell_type": "code",
   "execution_count": 10,
   "id": "2e658050-ad36-4c70-bd04-a523c0c8ace8",
   "metadata": {},
   "outputs": [
    {
     "name": "stdout",
     "output_type": "stream",
     "text": [
      "The Coefficient for this dataset:  [938.23786125]\n"
     ]
    }
   ],
   "source": [
    "# Developing our descriptive statistics base.\n",
    "# The coefficients\n",
    "print(\"The Coefficient for this dataset: \", regression.coef_)"
   ]
  },
  {
   "cell_type": "code",
   "execution_count": 11,
   "id": "9b4255fe-4fa6-4370-8c8f-dbc5cd1f5d36",
   "metadata": {},
   "outputs": [
    {
     "name": "stdout",
     "output_type": "stream",
     "text": [
      "Mean squared error: 2548.07\n"
     ]
    }
   ],
   "source": [
    "# The mean squared error\n",
    "print(\"Mean squared error: %.2f\" % mean_squared_error(diabetes_y_test, diabetes_y_pred))"
   ]
  },
  {
   "cell_type": "code",
   "execution_count": 12,
   "id": "602436b8-2d01-4927-845c-b41bec327734",
   "metadata": {},
   "outputs": [
    {
     "name": "stdout",
     "output_type": "stream",
     "text": [
      "Coefficient of determination: 0.47\n"
     ]
    }
   ],
   "source": [
    "# The coefficient of determination: 1 is perfect prediction\n",
    "print(\"Coefficient of determination: %.2f\" % r2_score(diabetes_y_test, diabetes_y_pred))"
   ]
  },
  {
   "cell_type": "markdown",
   "id": "e3fe8f3e-4e93-4fd3-949a-a6defa0d2291",
   "metadata": {},
   "source": [
    "##### Plots & Visualisation"
   ]
  },
  {
   "cell_type": "code",
   "execution_count": 13,
   "id": "cb0cc606-c93c-434d-ad50-6f3d80f032db",
   "metadata": {},
   "outputs": [
    {
     "data": {
      "image/png": "[encoded data removed]",
      "text/plain": [
       "<Figure size 432x288 with 1 Axes>"
      ]
     },
     "metadata": {
      "needs_background": "light"
     },
     "output_type": "display_data"
    }
   ],
   "source": [
    "plt.scatter(diabetes_X_test, diabetes_y_test, color=\"red\", label=\"Tested\")\n",
    "plt.plot(diabetes_X_test, diabetes_y_pred, color=\"green\", linewidth=3, label=\"Predicted\")\n",
    "plt.xticks(rotation=350)\n",
    "#plt.yticks(())\n",
    "plt.title('Plotting Tested vrs Predicted data', fontsize=20)\n",
    "plt.legend()\n",
    "plt.show();"
   ]
  },
  {
   "cell_type": "markdown",
   "id": "d88056f7-913e-4ed1-a2bb-2f9c174742a2",
   "metadata": {},
   "source": [
    "### Decision Tree\n",
    "\n",
    "***"
   ]
  },
  {
   "cell_type": "markdown",
   "id": "a99ac1fb-0e32-4c4d-bcbf-bf7df7aa9a41",
   "metadata": {},
   "source": [
    "Another area of regression that we are going to analyse is the area of decision trees. Not only are decision trees implemeneted in the area of Regression, they can also be used in the Classification area mentioned in the introduction. \n",
    "\n",
    "At it's most basic structure, a decision tree has three layers to it, as stated by [TowardsScience](https://towardsdatascience.com/machine-learning-basics-decision-tree-regression-1d73ea003fda). The first is the Root Node, the initial node representating the complete sample of data. The interior node represent the characteristics that make up the root node, from which they branch out of. Lastly, there are the leaf nodes which are representative of an outcome."
   ]
  },
  {
   "cell_type": "markdown",
   "id": "4c9f9457-3432-4fc4-b899-b21d917a9eb0",
   "metadata": {},
   "source": [
    "##### Setting up the Model"
   ]
  },
  {
   "cell_type": "code",
   "execution_count": 14,
   "id": "3a4f8a3d-79cc-4b6a-8dc8-e9a72e12a2c2",
   "metadata": {},
   "outputs": [],
   "source": [
    "dataset = pd.read_csv('https://raw.githubusercontent.com/mk-gurucharan/Regression/master/IceCreamData.csv')\n",
    "X = dataset['Temperature'].values\n",
    "y = dataset['Revenue'].values"
   ]
  },
  {
   "cell_type": "code",
   "execution_count": 15,
   "id": "0e4253f0-5e6b-475c-b300-3a2d0c39225d",
   "metadata": {},
   "outputs": [
    {
     "data": {
      "text/html": [
       "<div>\n",
       "<style scoped>\n",
       "    .dataframe tbody tr th:only-of-type {\n",
       "        vertical-align: middle;\n",
       "    }\n",
       "\n",
       "    .dataframe tbody tr th {\n",
       "        vertical-align: top;\n",
       "    }\n",
       "\n",
       "    .dataframe thead th {\n",
       "        text-align: right;\n",
       "    }\n",
       "</style>\n",
       "<table border=\"1\" class=\"dataframe\">\n",
       "  <thead>\n",
       "    <tr style=\"text-align: right;\">\n",
       "      <th></th>\n",
       "      <th>Temperature</th>\n",
       "      <th>Revenue</th>\n",
       "    </tr>\n",
       "  </thead>\n",
       "  <tbody>\n",
       "    <tr>\n",
       "      <th>0</th>\n",
       "      <td>24.566884</td>\n",
       "      <td>534.799028</td>\n",
       "    </tr>\n",
       "    <tr>\n",
       "      <th>1</th>\n",
       "      <td>26.005191</td>\n",
       "      <td>625.190122</td>\n",
       "    </tr>\n",
       "    <tr>\n",
       "      <th>2</th>\n",
       "      <td>27.790554</td>\n",
       "      <td>660.632289</td>\n",
       "    </tr>\n",
       "    <tr>\n",
       "      <th>3</th>\n",
       "      <td>20.595335</td>\n",
       "      <td>487.706960</td>\n",
       "    </tr>\n",
       "    <tr>\n",
       "      <th>4</th>\n",
       "      <td>11.503498</td>\n",
       "      <td>316.240194</td>\n",
       "    </tr>\n",
       "  </tbody>\n",
       "</table>\n",
       "</div>"
      ],
      "text/plain": [
       "   Temperature     Revenue\n",
       "0    24.566884  534.799028\n",
       "1    26.005191  625.190122\n",
       "2    27.790554  660.632289\n",
       "3    20.595335  487.706960\n",
       "4    11.503498  316.240194"
      ]
     },
     "execution_count": 15,
     "metadata": {},
     "output_type": "execute_result"
    }
   ],
   "source": [
    "dataset.head(5)"
   ]
  },
  {
   "cell_type": "markdown",
   "id": "89d893f0-bb98-414a-a748-2cf5c3c11a9e",
   "metadata": {},
   "source": [
    "One of the first obervations we can see from the table above is that there is a clear causality in the relationship between the two. For every 1 degree increase in the Temperature, there is an increase in the Revenue generated, which stands to reason. Inversly, when the weather changes and the temperature drops, Revenus falls inline.To develop our decision tree model on further, we must lay out the foundation for our train and test modelling. "
   ]
  },
  {
   "cell_type": "code",
   "execution_count": 16,
   "id": "9db12193-54ad-455a-8150-5544ed97a74b",
   "metadata": {},
   "outputs": [],
   "source": [
    "X_train, X_test, y_train, y_test = train_test_split(X, y, test_size = 0.05)"
   ]
  },
  {
   "cell_type": "code",
   "execution_count": 17,
   "id": "e693e8d7-f30d-4768-8c16-53405a0e723e",
   "metadata": {},
   "outputs": [
    {
     "data": {
      "text/plain": [
       "DecisionTreeRegressor()"
      ]
     },
     "execution_count": 17,
     "metadata": {},
     "output_type": "execute_result"
    }
   ],
   "source": [
    "# Fitting the Decision Tree to the dataset. \n",
    "regressor = DecisionTreeRegressor()\n",
    "regressor.fit(X_train.reshape(-1,1), y_train.reshape(-1,1))"
   ]
  },
  {
   "cell_type": "markdown",
   "id": "46c671ba-fbd1-4dd2-97e9-e814038e393c",
   "metadata": {},
   "source": [
    "As we work our way through the process, the algrithm within the Decision Tree regression, is asking a series of questions. The answer to these questions are True/False values, as highlighted by [gdcoder.com](https://gdcoder.com/decision-tree-regressor-explained-in-depth/). It is through these answers that the model will be able to give us our prediction/outcome in the leaf node. "
   ]
  },
  {
   "cell_type": "code",
   "execution_count": 18,
   "id": "a3212084-16d9-4708-80ca-b7817e9fa5d1",
   "metadata": {},
   "outputs": [],
   "source": [
    "y_pred = regressor.predict(X_test.reshape(-1,1))"
   ]
  },
  {
   "cell_type": "code",
   "execution_count": 19,
   "id": "0fbfc19b-3ab9-4cc5-8355-c4615f1c75c4",
   "metadata": {},
   "outputs": [
    {
     "data": {
      "text/html": [
       "<div>\n",
       "<style scoped>\n",
       "    .dataframe tbody tr th:only-of-type {\n",
       "        vertical-align: middle;\n",
       "    }\n",
       "\n",
       "    .dataframe tbody tr th {\n",
       "        vertical-align: top;\n",
       "    }\n",
       "\n",
       "    .dataframe thead th {\n",
       "        text-align: right;\n",
       "    }\n",
       "</style>\n",
       "<table border=\"1\" class=\"dataframe\">\n",
       "  <thead>\n",
       "    <tr style=\"text-align: right;\">\n",
       "      <th></th>\n",
       "      <th>Real Values</th>\n",
       "      <th>Predicted Values</th>\n",
       "    </tr>\n",
       "  </thead>\n",
       "  <tbody>\n",
       "    <tr>\n",
       "      <th>0</th>\n",
       "      <td>473.604335</td>\n",
       "      <td>454.189267</td>\n",
       "    </tr>\n",
       "    <tr>\n",
       "      <th>1</th>\n",
       "      <td>642.349814</td>\n",
       "      <td>621.189730</td>\n",
       "    </tr>\n",
       "    <tr>\n",
       "      <th>2</th>\n",
       "      <td>250.131728</td>\n",
       "      <td>212.591740</td>\n",
       "    </tr>\n",
       "    <tr>\n",
       "      <th>3</th>\n",
       "      <td>652.005408</td>\n",
       "      <td>679.317791</td>\n",
       "    </tr>\n",
       "    <tr>\n",
       "      <th>4</th>\n",
       "      <td>374.955702</td>\n",
       "      <td>322.888783</td>\n",
       "    </tr>\n",
       "    <tr>\n",
       "      <th>5</th>\n",
       "      <td>524.746364</td>\n",
       "      <td>550.278516</td>\n",
       "    </tr>\n",
       "    <tr>\n",
       "      <th>6</th>\n",
       "      <td>809.777726</td>\n",
       "      <td>809.672053</td>\n",
       "    </tr>\n",
       "    <tr>\n",
       "      <th>7</th>\n",
       "      <td>684.158444</td>\n",
       "      <td>702.623614</td>\n",
       "    </tr>\n",
       "    <tr>\n",
       "      <th>8</th>\n",
       "      <td>341.859353</td>\n",
       "      <td>339.109583</td>\n",
       "    </tr>\n",
       "    <tr>\n",
       "      <th>9</th>\n",
       "      <td>316.240194</td>\n",
       "      <td>325.968408</td>\n",
       "    </tr>\n",
       "  </tbody>\n",
       "</table>\n",
       "</div>"
      ],
      "text/plain": [
       "   Real Values  Predicted Values\n",
       "0   473.604335        454.189267\n",
       "1   642.349814        621.189730\n",
       "2   250.131728        212.591740\n",
       "3   652.005408        679.317791\n",
       "4   374.955702        322.888783\n",
       "5   524.746364        550.278516\n",
       "6   809.777726        809.672053\n",
       "7   684.158444        702.623614\n",
       "8   341.859353        339.109583\n",
       "9   316.240194        325.968408"
      ]
     },
     "execution_count": 19,
     "metadata": {},
     "output_type": "execute_result"
    }
   ],
   "source": [
    "df = pd.DataFrame({'Real Values':y_test.reshape(-1), 'Predicted Values':y_pred.reshape(-1)})\n",
    "df.head(10)"
   ]
  },
  {
   "cell_type": "markdown",
   "id": "73e5b567-50ad-442a-9f13-aa452c3b0e4a",
   "metadata": {},
   "source": [
    "##### Plots & Visualisation"
   ]
  },
  {
   "cell_type": "code",
   "execution_count": 20,
   "id": "518f51ce-a6a5-41fd-9ca9-54e370dbe02e",
   "metadata": {},
   "outputs": [
    {
     "data": {
      "image/png": "[encoded data removed]",
      "text/plain": [
       "<Figure size 432x288 with 1 Axes>"
      ]
     },
     "metadata": {
      "needs_background": "light"
     },
     "output_type": "display_data"
    }
   ],
   "source": [
    "# Visualising the Decision Tree Regression Results \n",
    "X_grid = np.arange(min(X), max(X), 0.01)\n",
    "X_grid = X_grid.reshape((len(X_grid), 1))\n",
    "plt.scatter(X_test, y_test, color = 'red')\n",
    "plt.scatter(X_test, y_pred, color = 'green')\n",
    "plt.title('Decision Tree Regression')\n",
    "plt.xlabel('Temperature')\n",
    "plt.ylabel('Revenue')\n",
    "plt.show()"
   ]
  },
  {
   "cell_type": "code",
   "execution_count": 21,
   "id": "ec4ed1d6-dd51-4e48-95f5-f7b1b7d22a3d",
   "metadata": {},
   "outputs": [
    {
     "data": {
      "image/png": "[encoded data removed]",
      "text/plain": [
       "<Figure size 432x288 with 1 Axes>"
      ]
     },
     "metadata": {
      "needs_background": "light"
     },
     "output_type": "display_data"
    }
   ],
   "source": [
    "plt.plot(X_grid, regressor.predict(X_grid), color = 'black')\n",
    "plt.title('Decision Tree Regression')\n",
    "plt.xlabel('Temperature')\n",
    "plt.ylabel('Revenue')\n",
    "plt.show()"
   ]
  },
  {
   "cell_type": "markdown",
   "id": "057dc6e6-5e55-4818-8ae9-1ca52089462b",
   "metadata": {},
   "source": [
    "### Least Angle Regression\n",
    "\n",
    "***"
   ]
  },
  {
   "cell_type": "markdown",
   "id": "aba2583c-24a6-4d92-be37-86dfc01bae6e",
   "metadata": {},
   "source": [
    "Least Angle Regression(LARS) is deployed when there is a large number of attributes in the set, as deatiled in [geeksforgeeks.com](https://www.geeksforgeeks.org/least-angle-regression-lars/). The algorithm works by discerning attributes with higher rates of correlation to the target value. It is an adapted view of teh Lasso regression, according to [MachineLearningMastery.com](https://machinelearningmastery.com/lars-regression-with-python/), with a more efficient manner of fitting the data compared to the Lasso model.  \n",
    "In the same manner as the two previous examples, we need to be able to diaplay the information correctly. First, we must read in the information. We are going to be developing ona  dataset that is built into the SciKit-Learn Library, and has been used across numerous areas in the library, the Boton [dataset](https://scikit-learn.org/stable/modules/generated/sklearn.datasets.load_boston.html).<br>\n",
    "\n",
    "The below data has been adapted from [DataTechNotes.com](https://www.datatechnotes.com/2019/11/least-angle-regression-example-in-python.html)"
   ]
  },
  {
   "cell_type": "markdown",
   "id": "101e9266-f354-4d64-be30-1f7c24abbce2",
   "metadata": {},
   "source": [
    "##### Setting up the Model"
   ]
  },
  {
   "cell_type": "code",
   "execution_count": 22,
   "id": "2bd3571e-f78d-4117-b394-bef43e99dcd1",
   "metadata": {},
   "outputs": [],
   "source": [
    "boston = load_boston()"
   ]
  },
  {
   "cell_type": "code",
   "execution_count": 23,
   "id": "de26dfa4-d9b0-489b-9733-ba143fc47234",
   "metadata": {},
   "outputs": [],
   "source": [
    "# Establish the x & y values of the array\n",
    "# Establish the variables for the train & test components\n",
    "x, y = boston.data, boston.target\n",
    "xtrain, xtest, ytrain, ytest=train_test_split(x, y, test_size=0.15)"
   ]
  },
  {
   "cell_type": "code",
   "execution_count": 24,
   "id": "dfbbe1cc-8408-4276-b8e7-8c8a3ac4b815",
   "metadata": {},
   "outputs": [
    {
     "name": "stdout",
     "output_type": "stream",
     "text": [
      "Lars()\n",
      "[-1.05732461e-01  4.54573274e-02  6.92526194e-02  1.79283146e+00\n",
      " -1.86081656e+01  3.98475366e+00  1.97168308e-03 -1.54706151e+00\n",
      "  3.20193925e-01 -1.50712076e-02 -9.33803601e-01  9.24691574e-03\n",
      " -5.52052869e-01]\n"
     ]
    }
   ],
   "source": [
    "# Define the model with a class and fit the trained data\n",
    "lars = linear_model.Lars().fit(xtrain, ytrain)\n",
    "print(lars)\n",
    "print(lars.coef_)"
   ]
  },
  {
   "cell_type": "code",
   "execution_count": 25,
   "id": "05ca3498-71f8-4356-8ec9-c8628aebf952",
   "metadata": {},
   "outputs": [
    {
     "name": "stdout",
     "output_type": "stream",
     "text": [
      "MSE: 24.64\n",
      "RMSE: 4.96\n"
     ]
    }
   ],
   "source": [
    "# Predict the outcomes now that the variables are in place\n",
    "# produce the Mean Squared error and root mean squared error\n",
    "ypred = lars.predict(xtest)\n",
    "mse = mean_squared_error(ytest, ypred)\n",
    "print(\"MSE: %.2f\" % mse)\n",
    "print(\"RMSE: %.2f\" % sqrt(mse))"
   ]
  },
  {
   "cell_type": "markdown",
   "id": "870e3836-418a-47e5-843e-d71694ca5a01",
   "metadata": {},
   "source": [
    " The Mean Squared Error(MSE) needs to be produced so that we can tell how close a line fits to data points in a dataset. The Root Mean Squared Error (RMSE) will just take this value and find it's square root. This value will give us the distance on average for all points, for a point, away from the line as detailed by [Vernier](https://www.vernier.com/til/1014)"
   ]
  },
  {
   "cell_type": "markdown",
   "id": "5366f28c-254b-4750-b00f-b8510b70955e",
   "metadata": {},
   "source": [
    "##### Plots & Visualisation"
   ]
  },
  {
   "cell_type": "code",
   "execution_count": 26,
   "id": "f18daddf-f128-4f69-908b-ce4fbe953334",
   "metadata": {},
   "outputs": [
    {
     "data": {
      "image/png": "[encoded data removed]",
      "text/plain": [
       "<Figure size 432x288 with 1 Axes>"
      ]
     },
     "metadata": {},
     "output_type": "display_data"
    }
   ],
   "source": [
    "# Create a plot of what we have prodced so far of orginal versus predicted data\n",
    "x_ax = range(len(ytest))\n",
    "plt.style.use(\"fivethirtyeight\")\n",
    "plt.scatter(x_ax, ytest, s=5, color=\"blue\", label=\"original\")\n",
    "plt.plot(x_ax, ypred, lw=0.8, color=\"red\", label=\"predicted\")\n",
    "plt.legend()\n",
    "plt.rcParams['figure.figsize'] = [15, 6]\n",
    "plt.show();"
   ]
  },
  {
   "cell_type": "code",
   "execution_count": 27,
   "id": "24791038-8d5d-407f-ba13-fe0e71af6990",
   "metadata": {},
   "outputs": [
    {
     "data": {
      "image/png": "[encoded data removed]",
      "text/plain": [
       "<Figure size 1080x432 with 1 Axes>"
      ]
     },
     "metadata": {},
     "output_type": "display_data"
    }
   ],
   "source": [
    "x_ax = range(len(ytest))\n",
    "plt.style.use(\"fivethirtyeight\")\n",
    "plt.bar(x_ax, ytest)\n",
    "plt.plot(x_ax, ypred, lw=0.8, color=\"red\", label=\"predicted\")\n",
    "plt.legend()\n",
    "plt.rcParams['figure.figsize'] = [15, 6]\n",
    "plt.show();"
   ]
  },
  {
   "cell_type": "markdown",
   "id": "5e70dbf8-5702-49f3-b58e-8ca8562dd1d1",
   "metadata": {},
   "source": [
    "### Conclusion\n",
    "\n",
    "***"
   ]
  },
  {
   "cell_type": "markdown",
   "id": "8544950f-653d-439d-b719-99bfd0203705",
   "metadata": {},
   "source": [
    "We have seen that across these three different models that there is a wealth of knowledge that can be extracted from datasets when we speak about regression. The three areas that have been highlighted are just a flavour of what the SciPy library can achieve. "
   ]
  },
  {
   "cell_type": "markdown",
   "id": "195ffc10-5fbe-44a7-8b49-cc6def8a2c97",
   "metadata": {},
   "source": [
    "***\n",
    "Bibliography\n",
    "======\n",
    "***"
   ]
  },
  {
   "cell_type": "markdown",
   "id": "2c7e2e67-39f4-4721-a942-16518ddac592",
   "metadata": {},
   "source": [
    "https://www.markdownguide.org/basic-syntax/, retrieved on 30/10/21 <br>\n",
    "https://newbedev.com/shortcut-key-for-changing-code-cell-to-markdown-cell-in-jupyter-notebook,  retrieved on 30/10/21<br>\n",
    "https://machinelearningmastery.com/a-gentle-introduction-to-scikit-learn-a-python-machine-learning-library/, retrieved on 30/10/21<br>\n",
    "https://www.codecademy.com/articles/scikit-learn,  retrieved on 30/10/21<br>\n",
    "https://numpy.org/doc/stable/reference/random/generated/numpy.random.randint.html, retrieved on 21/11/21 </br>\n",
    "https://scikit-learn.org/stable/modules/generated/sklearn.metrics.mean_squared_error.html,  retrieved on 21/12/21 </br>\n",
    "https://scikit-learn.org/stable/datasets/toy_dataset.html,  retrieved on 21/12/21 </br>\n",
    "https://scikit-learn.org/stable/datasets/loading_other_datasets.html#external-datasets, retrieved on 21/12/21 </br>\n",
    "https://scikit-learn.org/stable/auto_examples/linear_model/plot_ols.html#sphx-glr-download-auto-examples-linear-model-plot-ols-py,  retrieved on 21/12/21 </br> \n",
    "https://scikit-learn.org/stable/auto_examples/index.html#general-examples ,  retrieved on 21/12/21 </br>\n",
    "https://scikit-learn.org/stable/tutorial/index.html#tutorial-menu,  retrieved on 21/12/21 </br>\n",
    "https://python.plainenglish.io/ols-linear-regression-basics-with-pythons-scikit-learn-4ecfe88145b,  retrieved on 21/12/21 </br>\n",
    "https://www.activestate.com/resources/quick-reads/what-is-scikit-learn-in-python/,  retrieved on 21/12/21 </br>\n",
    "https://scikit-learn.org/stable/tutorial/machine_learning_map/index.html,  retrieved on 21/12/21 </br>\n",
    "https://scikit-learn.org/stable/,  retrieved on 21/12/21 </br>\n",
    "https://scikit-learn.org/stable/auto_examples/index.html#classification,  retrieved on 21/12/21 </br>\n",
    "https://scikit-learn.org/stable/auto_examples/index.html#examples,  retrieved on 21/12/21 </br>\n",
    "https://scikit-learn.org/stable/auto_examples/index.html#cluster-examples,  retrieved on 21/12/21 </br>\n",
    "https://scikit-learn.org/stable/auto_examples/index.html#model-selection,  retrieved on 21/12/21 </br>\n",
    "https://scikit-learn.org/stable/auto_examples/index.html#preprocessing,  retrieved on 21/12/21 </br>\n",
    "https://scikit-learn.org/stable/auto_examples/index.html#decomposition-examples,  retrieved on 21/12/21 </br>\n",
    "https://realpython.com/linear-regression-in-python/,  retrieved on 21/12/21 </br>\n",
    "https://www.kaggle.com/learn/pandas,  retrieved on 21/12/21 </br>\n",
    "https://realpython.com/numpy-tutorial/,  retrieved on 21/12/21 </br>\n",
    "https://www.w3schools.com/python/matplotlib_intro.asp,  retrieved on 21/12/21 </br>\n",
    "https://hbr.org/2015/11/a-refresher-on-regression-analysis,  retrieved on 22/12/21 </br>\n",
    "https://scikit-learn.org/stable/modules/linear_model.html,  retrieved on 22/12/21 </br>\n",
    "https://towardsdatascience.com/stop-using-numpy-random-seed-581a9972805f,  retrieved on 22/12/21 </br>\n",
    "https://numpy.org/doc/stable/reference/random/generated/numpy.random.seed.html?highlight=seed#numpy.random.seed,  retrieved on 22/12/21 </br>\n",
    "https://www.w3schools.com/python/matplotlib_labels.asp,  retrieved on 22/12/21 </br>\n",
    "https://towardsdatascience.com/7-points-to-use-matplotlib-more-efficiently-53a1b318b8b1,  retrieved on 22/12/21 </br>\n",
    "https://scikit-learn.org/stable/modules/linear_model.html,  retrieved on 28/12/21 </br>\n",
    "https://riptutorial.com/scikit-learn/example/18378/ordinary-least-squares,  retrieved on 28/12/21 </br>\n",
    "https://towardsdatascience.com/machine-learning-basics-decision-tree-regression-1d73ea003fda,  retrieved on 02/01/22 </br>\n",
    "https://gdcoder.com/decision-tree-regressor-explained-in-depth/,  retrieved on 02/01/22 </br>\n",
    "https://scikit-learn.org/stable/modules/linear_model.html#least-angle-regression,  retrieved on 02/01/22 </br>\n",
    "https://www.geeksforgeeks.org/least-angle-regression-lars/,  retrieved on 02/01/22 </br>\n",
    "https://machinelearningmastery.com/lars-regression-with-python/,  retrieved on 02/01/22 </br>\n",
    "https://scikit-learn.org/stable/modules/generated/sklearn.datasets.load_boston.html,  retrieved on 02/01/22 </br>\n",
    "https://www.vernier.com/til/1014,  retrieved on 02/01/22 </br>\n",
    "https://www.datatechnotes.com/2019/11/least-angle-regression-example-in-python.html,  retrieved on 02/01/22 </br>"
   ]
  },
  {
   "cell_type": "markdown",
   "id": "782ff2da-4885-4321-8e6a-fee90b0fb8ae",
   "metadata": {},
   "source": [
    "***\n",
    "\n",
    "# End"
   ]
  }
 ],
 "metadata": {
  "kernelspec": {
   "display_name": "Python 3",
   "language": "python",
   "name": "python3"
  },
  "language_info": {
   "codemirror_mode": {
    "name": "ipython",
    "version": 3
   },
   "file_extension": ".py",
   "mimetype": "text/x-python",
   "name": "python",
   "nbconvert_exporter": "python",
   "pygments_lexer": "ipython3",
   "version": "3.8.8"
  }
 },
 "nbformat": 4,
 "nbformat_minor": 5
}
