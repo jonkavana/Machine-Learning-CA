{
 "cells": [
  {
   "cell_type": "markdown",
   "id": "3e8c7612-f154-4996-95ac-2991f1f18239",
   "metadata": {
    "tags": []
   },
   "source": [
    "TO BE REMOVED WHEN COMPLETED\n",
    "What needs to be in this file, based on the marking scheme laid out in the ML&S Assessment file \n",
    "1. A clear and concise overview of the scikit python library\n",
    "2. SciKit-Learn Algorithms - minimum of three. can be spread over the course of the library, or restricted to one aspect in greater detail\n",
    "3. Plots and visualisations"
   ]
  },
  {
   "cell_type": "markdown",
   "id": "0b41b52f-7d7a-4e87-8f1b-6b3cba7abea3",
   "metadata": {},
   "source": [
    "# Overview of the SciKit-Learn Package\n",
    "\n",
    "***"
   ]
  },
  {
   "cell_type": "markdown",
   "id": "0ecaf350-31b9-47c1-9157-a6e77b452918",
   "metadata": {},
   "source": [
    "#### *Foundation*\n",
    "SciKit Learn is a Python based library that can be utilised when developing your Machine Learning based code according to [Machine Learning Mastery](https://machinelearningmastery.com/a-gentle-introduction-to-scikit-learn-a-python-machine-learning-library/) and is built upon the ScyPy library. As such, it will develop on and use the following libraries which are built into the [package](https://scikit-learn.org/stable/): \n",
    "- Numpy\n",
    "- SciPy\n",
    "- MatPlotLib\n",
    "\n",
    "For further reading/tutorials on the above libraries, please see:\n",
    "\n",
    "Numpy - [Realpython.com](https://realpython.com/numpy-tutorial/) have some really good introduction material for new beginners <br>\n",
    "Pandas- [Kaggle.com](https://www.kaggle.com/learn/pandas) have a tutorial that will teach how to effectively run pandas commands <br>\n",
    "MatPlotLib - [W3Schools.com](https://www.w3schools.com/python/matplotlib_intro.asp) have a great tutorial course available <br>\n",
    "\n",
    "#### *SciKit-Learn*\n",
    "The primary consideration for SciKit, according to [Machine Learning Mastery](https://machinelearningmastery.com/a-gentle-introduction-to-scikit-learn-a-python-machine-learning-library/), is modelling data\n",
    "- [Regression](https://scikit-learn.org/stable/auto_examples/index.html#examples)\n",
    "- [Classification](https://scikit-learn.org/stable/auto_examples/index.html#classification)\n",
    "- [Clustering](https://scikit-learn.org/stable/auto_examples/index.html#cluster-examples)\n",
    "- [Model Selection](https://scikit-learn.org/stable/auto_examples/index.html#model-selection)\n",
    "- [Preprocessing](https://scikit-learn.org/stable/auto_examples/index.html#preprocessing)\n",
    "- [Dimensionality Reduction](https://scikit-learn.org/stable/auto_examples/index.html#decomposition-examples)\n",
    "\n",
    "The benefits of using the SciKit-Learn package are numerous, but from a learning and development perspective, there are both supervised and unsupervised components to the site that can be utilised according to [CodeAcademy](https://www.codecademy.com/articles/scikit-learn). Some of the difficulty when attempting the basics of Machine Learning can lie in an understanding over which estimator to use. Fortunately, there is a simple [diagram](https://scikit-learn.org/stable/tutorial/machine_learning_map/index.html) that has been produced by the SciKit-Learn Team. \n",
    "\n",
    "#### *Structure of the SciKit-Learn Packages* \n",
    "Given that we know that SciKit-Learn is a package that used for Machine Learning in a Python ecosystem, according to [ActiveState.com](https://www.activestate.com/resources/quick-reads/what-is-scikit-learn-in-python/), we must consider he strucutre of the SciKit Learn package is in line with the framework of other machine learning packages, and are detailed to a high level below:\n",
    "- Fitting and Predicting\n",
    "- Transform and Preprocess\n",
    "- Model Selection\n",
    "- Model Evaluation\n",
    "\n",
    "There are a series of examples that can be found on the official site, broken down by each area found [here](https://scikit-learn.org/stable/auto_examples/index.html#general-examples). If you are new to the area of machine learning, there is also an extensive range of tutorials that can be viewed [here](https://scikit-learn.org/stable/tutorial/index.html#tutorial-menu)\n",
    "\n",
    "#### *First things first*\n",
    "\n",
    "Learn from others have failed to avoid loss of time - [Common Pitfalls in SKLearn](https://scikit-learn.org/stable/common_pitfalls.html)\n",
    "\n",
    "> A common cause is not keeping the test and train data subsets separate. Test data should never be used to make choices about the model. The general rule is to never call 'fit' on the test data.\n",
    "\n",
    "Data Leakage\n",
    "> To prevent data leakage, it is good practice to split your data into train and test subsets first."
   ]
  },
  {
   "cell_type": "markdown",
   "id": "4b46867e-935f-4bfc-94e3-3570635ad047",
   "metadata": {},
   "source": [
    "## Libraries that need to be used in conjunction with SKLearn\n",
    "***"
   ]
  },
  {
   "cell_type": "code",
   "execution_count": 3,
   "id": "d60d4668-271b-4a9c-99ed-356680e7cff0",
   "metadata": {},
   "outputs": [],
   "source": [
    "import numpy as np\n",
    "import pandas as pd\n",
    "import matplotlib.pyplot as plt\n",
    "import sklearn as skl\n",
    "from sklearn import datasets, linear_model\n",
    "from sklearn.metrics import mean_squared_error, r2_score"
   ]
  },
  {
   "cell_type": "markdown",
   "id": "6edf598f-624c-4f0d-be26-5a0e92edbb52",
   "metadata": {
    "tags": []
   },
   "source": [
    "## Analysis of SciKit-Learn Libraries\n",
    "***"
   ]
  },
  {
   "cell_type": "markdown",
   "id": "bf429b3e-d2cb-4e42-80ab-593382ad63c5",
   "metadata": {},
   "source": [
    "As part of the review of this package, there is a requirement to examine and analyse three different algorithms from the SciKit-Learn package. </br>\n",
    "1. Ordinary Least Squares [Link to official documentation](https://scikit-learn.org/stable/modules/linear_model.html#ordinary-least-squares) </br>\n",
    "2. Linear Regression [Link to official documentation](https://scikit-learn.org/stable/auto_examples/linear_model/plot_ols.html#sphx-glr-download-auto-examples-linear-model-plot-ols-py)  </br>\n",
    "3.[]()  </br>"
   ]
  },
  {
   "cell_type": "markdown",
   "id": "5e72ad56-2173-44df-a960-38cbee286a23",
   "metadata": {},
   "source": [
    "***\n",
    "### Ordinary Least Squares\n",
    "\n",
    "***"
   ]
  },
  {
   "cell_type": "markdown",
   "id": "2aeedfa3-21a9-4d37-871d-c1fbfce9829d",
   "metadata": {},
   "source": [
    "If you are interested in the area of linear regression, there is an abundance of materual that can be reviwed subsequent to this notebook. One of the better examples of Ordinary Least Squares (OLS) that explains the topic, can be found [here](https://python.plainenglish.io/ols-linear-regression-basics-with-pythons-scikit-learn-4ecfe88145b) through the work of Thiago Carvalho.\n",
    "\n",
    "##### Setting up the Model "
   ]
  },
  {
   "cell_type": "code",
   "execution_count": 4,
   "id": "a165a856-8ae4-4537-82e3-64534ef92727",
   "metadata": {},
   "outputs": [],
   "source": [
    "# import the specific component of the library that deals with OLS\n",
    "from sklearn import linear_model"
   ]
  },
  {
   "cell_type": "code",
   "execution_count": 5,
   "id": "397ef97c-f271-45ac-9b89-27b8771656c4",
   "metadata": {},
   "outputs": [],
   "source": [
    "# Utilise the list randint sub-package from numpy\n",
    "# establish two variables that are the same shape and content, allows us to predict the next value\n",
    "X = np.random.randint(1, 30, 9).reshape(-1,1)\n",
    "Y = [1,2,3,4,5,6,7,8,9]"
   ]
  },
  {
   "cell_type": "code",
   "execution_count": 6,
   "id": "224c0c51-250d-4088-b593-6b87a2768df2",
   "metadata": {},
   "outputs": [
    {
     "data": {
      "text/plain": [
       "LinearRegression(fit_intercept=False)"
      ]
     },
     "execution_count": 6,
     "metadata": {},
     "output_type": "execute_result"
    }
   ],
   "source": [
    "model = linear_model.LinearRegression(fit_intercept=False)\n",
    "model.fit(X, Y)"
   ]
  },
  {
   "cell_type": "code",
   "execution_count": 5,
   "id": "55deb73d-7756-4d7e-9ef6-13dbbba173df",
   "metadata": {},
   "outputs": [
    {
     "name": "stdout",
     "output_type": "stream",
     "text": [
      "Coefficient:  [0.20467422]\n"
     ]
    }
   ],
   "source": [
    "print('Coefficient: ', model.coef_)"
   ]
  },
  {
   "cell_type": "code",
   "execution_count": 6,
   "id": "dec818c8-8784-4bc0-8789-b675c5265c3c",
   "metadata": {},
   "outputs": [
    {
     "name": "stdout",
     "output_type": "stream",
     "text": [
      "Intercept:  0.0\n"
     ]
    }
   ],
   "source": [
    "print('Intercept: ', model.intercept_)"
   ]
  },
  {
   "cell_type": "code",
   "execution_count": 7,
   "id": "4d34916a-8125-41cf-8db3-01f4e36ab6d0",
   "metadata": {},
   "outputs": [],
   "source": [
    "X_Pred = np.arange(1,25).reshape(-1,1)\n",
    "Y_Pred = model.predict(X_Pred)"
   ]
  },
  {
   "cell_type": "markdown",
   "id": "2dad69b4-e5d1-4d79-aab6-8a5a29eca91a",
   "metadata": {},
   "source": [
    "##### Visualisation"
   ]
  },
  {
   "cell_type": "code",
   "execution_count": 8,
   "id": "ac8c0f8b-ddb2-4011-b4f2-b1291ccdc054",
   "metadata": {},
   "outputs": [
    {
     "data": {
      "image/png": "[encoded data removed]",
      "text/plain": [
       "<Figure size 432x288 with 1 Axes>"
      ]
     },
     "metadata": {
      "needs_background": "light"
     },
     "output_type": "display_data"
    }
   ],
   "source": [
    "plt.scatter(X, Y)\n",
    "plt.scatter(X_Pred, Y_Pred)\n",
    "plt.show();"
   ]
  },
  {
   "cell_type": "markdown",
   "id": "c79c9e39-9bde-49b7-b3b7-99b5657a893c",
   "metadata": {},
   "source": [
    "***\n",
    "### Linear Regression\n",
    "\n",
    "***"
   ]
  },
  {
   "cell_type": "markdown",
   "id": "fc7ad092-fb6a-4a10-9ada-e60911a86bf1",
   "metadata": {},
   "source": [
    "Lineasr Regression as an field of stufy is vast and has been developed on within the Python environment. For a wider view on the area, there is a larger body of work comiled on [RealPython](https://realpython.com/linear-regression-in-python/)\n",
    "\n",
    "##### Setting up the Model"
   ]
  },
  {
   "cell_type": "code",
   "execution_count": 9,
   "id": "a0cf7692-ef2e-4112-8394-5c7a8d487fa5",
   "metadata": {},
   "outputs": [],
   "source": [
    "diabetes_X, diabetes_y = datasets.load_diabetes(return_X_y=True)"
   ]
  },
  {
   "cell_type": "code",
   "execution_count": 10,
   "id": "3f488860-ac3a-4ba2-9377-9b0622bffd52",
   "metadata": {},
   "outputs": [],
   "source": [
    "diabetes_X = diabetes_X[:, np.newaxis, 2]"
   ]
  },
  {
   "cell_type": "code",
   "execution_count": 11,
   "id": "fef8ae05-f808-4082-b42d-bb9bfc4a8d17",
   "metadata": {},
   "outputs": [],
   "source": [
    "diabetes_X_train = diabetes_X[:-20]\n",
    "diabetes_X_test = diabetes_X[-20:]"
   ]
  },
  {
   "cell_type": "code",
   "execution_count": 12,
   "id": "f26f4bb2-bb46-4281-b4fd-59a422637a5e",
   "metadata": {},
   "outputs": [],
   "source": [
    "diabetes_y_train = diabetes_y[:-20]\n",
    "diabetes_y_test = diabetes_y[-20:]"
   ]
  },
  {
   "cell_type": "code",
   "execution_count": 13,
   "id": "a1546a9f-8bc7-4c3f-9c63-c2533342485d",
   "metadata": {},
   "outputs": [],
   "source": [
    "regr = linear_model.LinearRegression()"
   ]
  },
  {
   "cell_type": "code",
   "execution_count": 14,
   "id": "2db9ef6a-acb3-47f2-95ac-64d9cf74bcc9",
   "metadata": {},
   "outputs": [
    {
     "data": {
      "text/plain": [
       "LinearRegression()"
      ]
     },
     "execution_count": 14,
     "metadata": {},
     "output_type": "execute_result"
    }
   ],
   "source": [
    "regr.fit(diabetes_X_train, diabetes_y_train)"
   ]
  },
  {
   "cell_type": "code",
   "execution_count": 15,
   "id": "144ae0d8-9069-4959-add0-c838bc3bab70",
   "metadata": {},
   "outputs": [],
   "source": [
    "diabetes_y_pred = regr.predict(diabetes_X_test)\n"
   ]
  },
  {
   "cell_type": "code",
   "execution_count": 16,
   "id": "2e658050-ad36-4c70-bd04-a523c0c8ace8",
   "metadata": {},
   "outputs": [
    {
     "name": "stdout",
     "output_type": "stream",
     "text": [
      "Coefficients: \n",
      " [938.23786125]\n"
     ]
    }
   ],
   "source": [
    "# The coefficients\n",
    "print(\"Coefficients: \\n\", regr.coef_)"
   ]
  },
  {
   "cell_type": "code",
   "execution_count": 17,
   "id": "9b4255fe-4fa6-4370-8c8f-dbc5cd1f5d36",
   "metadata": {},
   "outputs": [
    {
     "name": "stdout",
     "output_type": "stream",
     "text": [
      "Mean squared error: 2548.07\n"
     ]
    }
   ],
   "source": [
    "# The mean squared error\n",
    "print(\"Mean squared error: %.2f\" % mean_squared_error(diabetes_y_test, diabetes_y_pred))"
   ]
  },
  {
   "cell_type": "code",
   "execution_count": 18,
   "id": "602436b8-2d01-4927-845c-b41bec327734",
   "metadata": {},
   "outputs": [
    {
     "name": "stdout",
     "output_type": "stream",
     "text": [
      "Coefficient of determination: 0.47\n"
     ]
    }
   ],
   "source": [
    "# The coefficient of determination: 1 is perfect prediction\n",
    "print(\"Coefficient of determination: %.2f\" % r2_score(diabetes_y_test, diabetes_y_pred))"
   ]
  },
  {
   "cell_type": "code",
   "execution_count": 19,
   "id": "cb0cc606-c93c-434d-ad50-6f3d80f032db",
   "metadata": {},
   "outputs": [
    {
     "data": {
      "image/png": "[encoded data removed]",
      "text/plain": [
       "<Figure size 432x288 with 1 Axes>"
      ]
     },
     "metadata": {},
     "output_type": "display_data"
    }
   ],
   "source": [
    "plt.scatter(diabetes_X_test, diabetes_y_test, color=\"black\")\n",
    "plt.plot(diabetes_X_test, diabetes_y_pred, color=\"blue\", linewidth=3)\n",
    "plt.xticks(())\n",
    "plt.yticks(())\n",
    "plt.show();"
   ]
  },
  {
   "cell_type": "markdown",
   "id": "d88056f7-913e-4ed1-a2bb-2f9c174742a2",
   "metadata": {},
   "source": [
    "***\n",
    "### Third  Option\n",
    "\n",
    "***"
   ]
  },
  {
   "cell_type": "code",
   "execution_count": null,
   "id": "2f0646db-4389-4e9d-87bc-76ab4c9cdb46",
   "metadata": {},
   "outputs": [],
   "source": []
  },
  {
   "cell_type": "code",
   "execution_count": null,
   "id": "918ed41d-a3e6-4baf-942c-b938c07e1918",
   "metadata": {},
   "outputs": [],
   "source": []
  },
  {
   "cell_type": "code",
   "execution_count": null,
   "id": "c049bff3-bad9-4f88-abc2-79ae372ec13e",
   "metadata": {},
   "outputs": [],
   "source": []
  },
  {
   "cell_type": "code",
   "execution_count": null,
   "id": "69b0a9ec-6566-4f22-a881-92791267c0fb",
   "metadata": {},
   "outputs": [],
   "source": []
  },
  {
   "cell_type": "code",
   "execution_count": null,
   "id": "60c42bd4-b363-4767-8283-b072487c3f8e",
   "metadata": {},
   "outputs": [],
   "source": []
  },
  {
   "cell_type": "code",
   "execution_count": null,
   "id": "543b0aa2-fe1e-4b86-88c2-802426cbedcd",
   "metadata": {},
   "outputs": [],
   "source": []
  },
  {
   "cell_type": "markdown",
   "id": "195ffc10-5fbe-44a7-8b49-cc6def8a2c97",
   "metadata": {},
   "source": [
    "***\n",
    "Bibliography\n",
    "======\n",
    "***"
   ]
  },
  {
   "cell_type": "markdown",
   "id": "2c7e2e67-39f4-4721-a942-16518ddac592",
   "metadata": {},
   "source": [
    "\n",
    "https://www.markdownguide.org/basic-syntax/, retrieved on 30/10/21 <br>\n",
    "https://newbedev.com/shortcut-key-for-changing-code-cell-to-markdown-cell-in-jupyter-notebook,  retrieved on 30/10/21<br>\n",
    "https://machinelearningmastery.com/a-gentle-introduction-to-scikit-learn-a-python-machine-learning-library/, retrieved on 30/10/21<br>\n",
    "https://www.codecademy.com/articles/scikit-learn,  retrieved on 30/10/21<br>\n",
    "https://numpy.org/doc/stable/reference/random/generated/numpy.random.randint.html, retrieved on 21/11/21 </br>\n",
    "https://scikit-learn.org/stable/modules/generated/sklearn.metrics.mean_squared_error.html,  retrieved on 21/12/21 </br>\n",
    "https://scikit-learn.org/stable/datasets/toy_dataset.html,  retrieved on 21/12/21 </br>\n",
    "https://scikit-learn.org/stable/datasets/loading_other_datasets.html#external-datasets, retrieved on 21/12/21 </br>\n",
    "https://scikit-learn.org/stable/auto_examples/linear_model/plot_ols.html#sphx-glr-download-auto-examples-linear-model-plot-ols-py,  retrieved on 21/12/21 </br> \n",
    "https://scikit-learn.org/stable/auto_examples/index.html#general-examples ,  retrieved on 21/12/21 </br>\n",
    "https://scikit-learn.org/stable/tutorial/index.html#tutorial-menu,  retrieved on 21/12/21 </br>\n",
    "https://python.plainenglish.io/ols-linear-regression-basics-with-pythons-scikit-learn-4ecfe88145b,  retrieved on 21/12/21 </br>\n",
    "https://www.activestate.com/resources/quick-reads/what-is-scikit-learn-in-python/,  retrieved on 21/12/21 </br>\n",
    "https://scikit-learn.org/stable/tutorial/machine_learning_map/index.html,  retrieved on 21/12/21 </br>\n",
    "https://scikit-learn.org/stable/,  retrieved on 21/12/21 </br>\n",
    "https://scikit-learn.org/stable/auto_examples/index.html#classification,  retrieved on 21/12/21 </br>\n",
    "https://scikit-learn.org/stable/auto_examples/index.html#examples,  retrieved on 21/12/21 </br>\n",
    "https://scikit-learn.org/stable/auto_examples/index.html#cluster-examples,  retrieved on 21/12/21 </br>\n",
    "https://scikit-learn.org/stable/auto_examples/index.html#model-selection,  retrieved on 21/12/21 </br>\n",
    "https://scikit-learn.org/stable/auto_examples/index.html#preprocessing,  retrieved on 21/12/21 </br>\n",
    "https://scikit-learn.org/stable/auto_examples/index.html#decomposition-examples,  retrieved on 21/12/21 </br>\n",
    "https://realpython.com/linear-regression-in-python/,  retrieved on 21/12/21 </br>\n",
    "https://www.kaggle.com/learn/pandas,  retrieved on 21/12/21 </br>\n",
    "https://realpython.com/numpy-tutorial/,  retrieved on 21/12/21 </br>\n",
    "https://www.w3schools.com/python/matplotlib_intro.asp,  retrieved on 21/12/21 </br>\n",
    ",  retrieved on 21/12/21 </br>\n",
    ",  retrieved on 21/12/21 </br>\n",
    ",  retrieved on 21/12/21 </br>\n",
    ",  retrieved on 21/12/21 </br>"
   ]
  },
  {
   "cell_type": "markdown",
   "id": "782ff2da-4885-4321-8e6a-fee90b0fb8ae",
   "metadata": {},
   "source": [
    "***\n",
    "\n",
    "# End"
   ]
  }
 ],
 "metadata": {
  "kernelspec": {
   "display_name": "Python 3",
   "language": "python",
   "name": "python3"
  },
  "language_info": {
   "codemirror_mode": {
    "name": "ipython",
    "version": 3
   },
   "file_extension": ".py",
   "mimetype": "text/x-python",
   "name": "python",
   "nbconvert_exporter": "python",
   "pygments_lexer": "ipython3",
   "version": "3.8.8"
  }
 },
 "nbformat": 4,
 "nbformat_minor": 5
}
