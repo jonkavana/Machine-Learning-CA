{
 "cells": [
  {
   "cell_type": "markdown",
   "id": "74492101-9e29-4e09-a7c7-ad4819dd43a6",
   "metadata": {},
   "source": [
    "What needs to be in this file, based on the marking scheme laid out in the ML&S Assessment file "
   ]
  },
  {
   "cell_type": "markdown",
   "id": "3e8c7612-f154-4996-95ac-2991f1f18239",
   "metadata": {},
   "source": [
    "1. A clear and concise overview of the scikit python library"
   ]
  },
  {
   "cell_type": "markdown",
   "id": "6a46e58f-0886-4821-b7a8-d75b0155ea33",
   "metadata": {},
   "source": [
    "2. SciKit-Learn Algorithms - minimum of three. can be spread over the course of the library, or restricted to one aspect in greater detail"
   ]
  },
  {
   "cell_type": "markdown",
   "id": "29d3bb6f-5ab5-480b-9863-7a3f964b807a",
   "metadata": {},
   "source": [
    "3. Plots and visualisations"
   ]
  },
  {
   "cell_type": "code",
   "execution_count": null,
   "id": "4570c780-e0cf-48c1-934c-ff0d416123bd",
   "metadata": {},
   "outputs": [],
   "source": []
  },
  {
   "cell_type": "code",
   "execution_count": null,
   "id": "64058308-ef11-4ff6-998b-d2733492695a",
   "metadata": {},
   "outputs": [],
   "source": []
  }
 ],
 "metadata": {
  "kernelspec": {
   "display_name": "Python 3",
   "language": "python",
   "name": "python3"
  },
  "language_info": {
   "codemirror_mode": {
    "name": "ipython",
    "version": 3
   },
   "file_extension": ".py",
   "mimetype": "text/x-python",
   "name": "python",
   "nbconvert_exporter": "python",
   "pygments_lexer": "ipython3",
   "version": "3.8.8"
  }
 },
 "nbformat": 4,
 "nbformat_minor": 5
}
