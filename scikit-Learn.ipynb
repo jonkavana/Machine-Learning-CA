{
 "cells": [
  {
   "cell_type": "markdown",
   "id": "74492101-9e29-4e09-a7c7-ad4819dd43a6",
   "metadata": {},
   "source": [
    "What needs to be in this file, based on the marking scheme laid out in the ML&S Assessment file "
   ]
  },
  {
   "cell_type": "markdown",
   "id": "3e8c7612-f154-4996-95ac-2991f1f18239",
   "metadata": {},
   "source": [
    "1. A clear and concise overview of the scikit python library"
   ]
  },
  {
   "cell_type": "markdown",
   "id": "6a46e58f-0886-4821-b7a8-d75b0155ea33",
   "metadata": {},
   "source": [
    "2. SciKit-Learn Algorithms - minimum of three. can be spread over the course of the library, or restricted to one aspect in greater detail"
   ]
  },
  {
   "cell_type": "markdown",
   "id": "29d3bb6f-5ab5-480b-9863-7a3f964b807a",
   "metadata": {},
   "source": [
    "3. Plots and visualisations"
   ]
  },
  {
   "cell_type": "markdown",
   "id": "0b41b52f-7d7a-4e87-8f1b-6b3cba7abea3",
   "metadata": {},
   "source": [
    "Overview of the SciKit-Learn Package\n",
    "======\n",
    "***"
   ]
  },
  {
   "cell_type": "markdown",
   "id": "8e7dd3e9-8600-48f6-96a6-7ea69abd6e6f",
   "metadata": {},
   "source": [
    "> This is an example of a blockquote which can be used to demonstrate an impactful quote and or piece of code\n",
    ">> you can even nest them if needs be, whilst also using *italics* & **bold**"
   ]
  },
  {
   "cell_type": "markdown",
   "id": "0ecaf350-31b9-47c1-9157-a6e77b452918",
   "metadata": {},
   "source": [
    "SciKit Learn is a paython based library that can be utilised when developing your Machine Learning based code according to [Machine Learning Mastery](https://machinelearningmastery.com/a-gentle-introduction-to-scikit-learn-a-python-machine-learning-library/) and is built upon the ScyPy library. As such, it will develop on and use the following libraries which are built into the package: \n",
    "- Numpy\n",
    "- SciPy\n",
    "- MatPlotLib\n",
    "- iPython\n",
    "- Sympy\n",
    "- Pandas\n",
    "\n",
    "(i think that the list above focuses on scipy too much - may be overkill/unnecessary filler)\n",
    "\n",
    "\n",
    "The primary concern for SciKit, according to [Machine Learning Mastery](https://machinelearningmastery.com/a-gentle-introduction-to-scikit-learn-a-python-machine-learning-library/), is modelling data\n",
    "- Regression\n",
    "- Classification\n",
    "- Clustering\n",
    "- Model Selection\n",
    "- Preprocessing\n",
    "\n",
    "The benefits of using the SciKit-Learn package are numerous, but from a learning and development perspective, there are both supervised and unsupervised components to the site that can be utilised according to [CodeAcademy](https://www.codecademy.com/articles/scikit-learn)"
   ]
  },
  {
   "cell_type": "markdown",
   "id": "6edf598f-624c-4f0d-be26-5a0e92edbb52",
   "metadata": {},
   "source": [
    "# SciKit-Learn Algorithms\n",
    "***"
   ]
  },
  {
   "cell_type": "markdown",
   "id": "bf429b3e-d2cb-4e42-80ab-593382ad63c5",
   "metadata": {},
   "source": []
  },
  {
   "cell_type": "markdown",
   "id": "195ffc10-5fbe-44a7-8b49-cc6def8a2c97",
   "metadata": {},
   "source": [
    "Bibliography\n",
    "======\n",
    "***"
   ]
  },
  {
   "cell_type": "markdown",
   "id": "2c7e2e67-39f4-4721-a942-16518ddac592",
   "metadata": {},
   "source": [
    "\n",
    "https://www.markdownguide.org/basic-syntax/, retrieved on 30/10/21 <br>\n",
    "https://newbedev.com/shortcut-key-for-changing-code-cell-to-markdown-cell-in-jupyter-notebook,  retrieved on 30/10/21<br>\n",
    "https://machinelearningmastery.com/a-gentle-introduction-to-scikit-learn-a-python-machine-learning-library/, retrieved on 30/10/21<br>\n",
    "https://www.codecademy.com/articles/scikit-learn,  retrieved on 30/10/21<br>"
   ]
  }
 ],
 "metadata": {
  "kernelspec": {
   "display_name": "Python 3",
   "language": "python",
   "name": "python3"
  },
  "language_info": {
   "codemirror_mode": {
    "name": "ipython",
    "version": 3
   },
   "file_extension": ".py",
   "mimetype": "text/x-python",
   "name": "python",
   "nbconvert_exporter": "python",
   "pygments_lexer": "ipython3",
   "version": "3.8.8"
  }
 },
 "nbformat": 4,
 "nbformat_minor": 5
}
