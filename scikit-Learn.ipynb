{
 "cells": [
  {
   "cell_type": "markdown",
   "id": "3e8c7612-f154-4996-95ac-2991f1f18239",
   "metadata": {
    "tags": []
   },
   "source": [
    "TO BE REMOVED WHEN COMPLETED\n",
    "What needs to be in this file, based on the marking scheme laid out in the ML&S Assessment file \n",
    "1. A clear and concise overview of the scikit python library\n",
    "2. SciKit-Learn Algorithms - minimum of three. can be spread over the course of the library, or restricted to one aspect in greater detail\n",
    "3. Plots and visualisations"
   ]
  },
  {
   "cell_type": "markdown",
   "id": "2ce8acee-bca3-4c21-a6b3-bd9028bcffd2",
   "metadata": {},
   "source": [
    "### First things first\n",
    "\n",
    "Learn from others have failed to avoid loss of time - [Common Pitfalls in SKLearn](https://scikit-learn.org/stable/common_pitfalls.html)\n",
    "\n",
    "> A common cause is not keeping the test and train data subsets separate. Test data should never be used to make choices about the model. The general rule is to never call 'fit' on the test data.\n",
    "\n",
    "Data Leakage\n",
    "> To prevent data leakage, it is good practice to split your data into train and test subsets first."
   ]
  },
  {
   "cell_type": "markdown",
   "id": "0d36a74c-5699-4916-b964-3185b81a4046",
   "metadata": {},
   "source": [
    "# Libraries that need to be used in conjunction with SKLearn\n",
    "***"
   ]
  },
  {
   "cell_type": "code",
   "execution_count": 42,
   "id": "bc67115a-737c-4e75-aa69-df535f8730cf",
   "metadata": {},
   "outputs": [],
   "source": [
    "import numpy as np\n",
    "import pandas as pd\n",
    "import matplotlib.pyplot as plt\n",
    "import sklearn as skl\n",
    "from sklearn import datasets, linear_model\n",
    "from sklearn.metrics import mean_squared_error, r2_score"
   ]
  },
  {
   "cell_type": "markdown",
   "id": "0b41b52f-7d7a-4e87-8f1b-6b3cba7abea3",
   "metadata": {},
   "source": [
    "Overview of the SciKit-Learn Package\n",
    "======\n",
    "***"
   ]
  },
  {
   "cell_type": "markdown",
   "id": "8e7dd3e9-8600-48f6-96a6-7ea69abd6e6f",
   "metadata": {},
   "source": [
    "> This is an example of a blockquote which can be used to demonstrate an impactful quote and or piece of code\n",
    ">> you can even nest them if needs be, whilst also using *italics* & **bold**"
   ]
  },
  {
   "cell_type": "markdown",
   "id": "0ecaf350-31b9-47c1-9157-a6e77b452918",
   "metadata": {},
   "source": [
    "SciKit Learn is a Python based library that can be utilised when developing your Machine Learning based code according to [Machine Learning Mastery](https://machinelearningmastery.com/a-gentle-introduction-to-scikit-learn-a-python-machine-learning-library/) and is built upon the ScyPy library. As such, it will develop on and use the following libraries which are built into the package: \n",
    "- Numpy\n",
    "- SciPy\n",
    "- MatPlotLib\n",
    "- iPython\n",
    "- Sympy\n",
    "- Pandas\n",
    "\n",
    "The primary concern for SciKit, according to [Machine Learning Mastery](https://machinelearningmastery.com/a-gentle-introduction-to-scikit-learn-a-python-machine-learning-library/), is modelling data\n",
    "- Regression\n",
    "- Classification\n",
    "- Clustering\n",
    "- Model Selection\n",
    "- Preprocessing\n",
    "\n",
    "The benefits of using the SciKit-Learn package are numerous, but from a learning and development perspective, there are both supervised and unsupervised components to the site that can be utilised according to [CodeAcademy](https://www.codecademy.com/articles/scikit-learn)"
   ]
  },
  {
   "cell_type": "markdown",
   "id": "5546da6e-7d77-4b46-963d-062314aaad80",
   "metadata": {},
   "source": [
    "## Structure of the SciKit-Learn Packages\n",
    "\n",
    "The strucutre of the SciKit Learn package is in line with the framework of other machine learning packages, and are detailed to a high level below:\n",
    "- Fitting and Predicting\n",
    "- Transform and Preprocess\n",
    "- Model Selection\n",
    "- Model Evaluation"
   ]
  },
  {
   "cell_type": "markdown",
   "id": "c3c2a0e1-ad40-41de-a31a-e132bc6d7743",
   "metadata": {},
   "source": [
    "### First things first\n",
    "\n",
    "Learn from others have failed to avoid loss of time - [Common Pitfalls in SKLearn](https://scikit-learn.org/stable/common_pitfalls.html)\n",
    "\n",
    "> A common cause is not keeping the test and train data subsets separate. Test data should never be used to make choices about the model. The general rule is to never call 'fit' on the test data.\n",
    "\n",
    "Data Leakage\n",
    "> To prevent data leakage, it is good practice to split your data into train and test subsets first."
   ]
  },
  {
   "cell_type": "markdown",
   "id": "6edf598f-624c-4f0d-be26-5a0e92edbb52",
   "metadata": {
    "tags": []
   },
   "source": [
    "# SciKit-Learn Libraries\n",
    "***"
   ]
  },
  {
   "cell_type": "markdown",
   "id": "bf429b3e-d2cb-4e42-80ab-593382ad63c5",
   "metadata": {},
   "source": [
    "As part of the review of this package, there is a requirement to examine and analyse three different algorithms from the SKLearn package. </br>\n",
    "1. [Ordinary Least Squares Linear Regression](https://scikit-learn.org/stable/modules/linear_model.html#ordinary-least-squares) </br>\n",
    "2.[]()  </br>\n",
    "3.[]()  </br>\n",
    "\n",
    "These have been chosen because of....."
   ]
  },
  {
   "cell_type": "markdown",
   "id": "5e72ad56-2173-44df-a960-38cbee286a23",
   "metadata": {},
   "source": [
    "***\n",
    "### Ordinary Least Squares\n",
    "\n",
    "***"
   ]
  },
  {
   "cell_type": "code",
   "execution_count": 43,
   "id": "a165a856-8ae4-4537-82e3-64534ef92727",
   "metadata": {},
   "outputs": [],
   "source": [
    "from sklearn import linear_model"
   ]
  },
  {
   "cell_type": "code",
   "execution_count": 44,
   "id": "397ef97c-f271-45ac-9b89-27b8771656c4",
   "metadata": {},
   "outputs": [],
   "source": [
    "# Setting up two variables that are the same shape and content, so that we can knowingly predict the next value\n",
    "X = np.random.randint(1, 30, 9).reshape(-1,1)\n",
    "Y = [1,2,3,4,5,6,7,8,9]"
   ]
  },
  {
   "cell_type": "code",
   "execution_count": 45,
   "id": "224c0c51-250d-4088-b593-6b87a2768df2",
   "metadata": {},
   "outputs": [
    {
     "data": {
      "text/plain": [
       "LinearRegression(fit_intercept=False)"
      ]
     },
     "execution_count": 45,
     "metadata": {},
     "output_type": "execute_result"
    }
   ],
   "source": [
    "model = linear_model.LinearRegression(fit_intercept=False)\n",
    "model.fit(X, Y)"
   ]
  },
  {
   "cell_type": "code",
   "execution_count": 46,
   "id": "55deb73d-7756-4d7e-9ef6-13dbbba173df",
   "metadata": {},
   "outputs": [
    {
     "name": "stdout",
     "output_type": "stream",
     "text": [
      "Coefficient:  [0.28609272]\n"
     ]
    }
   ],
   "source": [
    "print('Coefficient: ', model.coef_)"
   ]
  },
  {
   "cell_type": "code",
   "execution_count": 47,
   "id": "dec818c8-8784-4bc0-8789-b675c5265c3c",
   "metadata": {},
   "outputs": [
    {
     "name": "stdout",
     "output_type": "stream",
     "text": [
      "Intercept:  0.0\n"
     ]
    }
   ],
   "source": [
    "print('Intercept: ', model.intercept_)"
   ]
  },
  {
   "cell_type": "code",
   "execution_count": 48,
   "id": "4d34916a-8125-41cf-8db3-01f4e36ab6d0",
   "metadata": {},
   "outputs": [],
   "source": [
    "X_Pred = np.arange(1,25).reshape(-1,1)\n",
    "Y_Pred = model.predict(X_Pred)"
   ]
  },
  {
   "cell_type": "code",
   "execution_count": 49,
   "id": "ac8c0f8b-ddb2-4011-b4f2-b1291ccdc054",
   "metadata": {},
   "outputs": [
    {
     "data": {
      "image/png": "[encoded data removed]",
      "text/plain": [
       "<Figure size 432x288 with 1 Axes>"
      ]
     },
     "metadata": {
      "needs_background": "light"
     },
     "output_type": "display_data"
    }
   ],
   "source": [
    "plt.scatter(X, Y)\n",
    "plt.scatter(X_Pred, Y_Pred)\n",
    "plt.show();"
   ]
  },
  {
   "cell_type": "code",
   "execution_count": null,
   "id": "8bdd29ea-e8ce-447b-bdd2-a4149128a236",
   "metadata": {},
   "outputs": [],
   "source": []
  },
  {
   "cell_type": "markdown",
   "id": "c79c9e39-9bde-49b7-b3b7-99b5657a893c",
   "metadata": {},
   "source": [
    "***\n",
    "### Linear Regression\n",
    "\n",
    "***"
   ]
  },
  {
   "cell_type": "code",
   "execution_count": 50,
   "id": "a0cf7692-ef2e-4112-8394-5c7a8d487fa5",
   "metadata": {},
   "outputs": [],
   "source": [
    "diabetes_X, diabetes_y = datasets.load_diabetes(return_X_y=True)"
   ]
  },
  {
   "cell_type": "code",
   "execution_count": 51,
   "id": "3f488860-ac3a-4ba2-9377-9b0622bffd52",
   "metadata": {},
   "outputs": [],
   "source": [
    "diabetes_X = diabetes_X[:, np.newaxis, 2]"
   ]
  },
  {
   "cell_type": "code",
   "execution_count": 52,
   "id": "fef8ae05-f808-4082-b42d-bb9bfc4a8d17",
   "metadata": {},
   "outputs": [],
   "source": [
    "diabetes_X_train = diabetes_X[:-20]\n",
    "diabetes_X_test = diabetes_X[-20:]"
   ]
  },
  {
   "cell_type": "code",
   "execution_count": 53,
   "id": "f26f4bb2-bb46-4281-b4fd-59a422637a5e",
   "metadata": {},
   "outputs": [],
   "source": [
    "diabetes_y_train = diabetes_y[:-20]\n",
    "diabetes_y_test = diabetes_y[-20:]"
   ]
  },
  {
   "cell_type": "code",
   "execution_count": 54,
   "id": "a1546a9f-8bc7-4c3f-9c63-c2533342485d",
   "metadata": {},
   "outputs": [],
   "source": [
    "regr = linear_model.LinearRegression()"
   ]
  },
  {
   "cell_type": "code",
   "execution_count": 55,
   "id": "2db9ef6a-acb3-47f2-95ac-64d9cf74bcc9",
   "metadata": {},
   "outputs": [
    {
     "data": {
      "text/plain": [
       "LinearRegression()"
      ]
     },
     "execution_count": 55,
     "metadata": {},
     "output_type": "execute_result"
    }
   ],
   "source": [
    "regr.fit(diabetes_X_train, diabetes_y_train)"
   ]
  },
  {
   "cell_type": "code",
   "execution_count": 56,
   "id": "144ae0d8-9069-4959-add0-c838bc3bab70",
   "metadata": {},
   "outputs": [],
   "source": [
    "diabetes_y_pred = regr.predict(diabetes_X_test)\n"
   ]
  },
  {
   "cell_type": "code",
   "execution_count": 57,
   "id": "2e658050-ad36-4c70-bd04-a523c0c8ace8",
   "metadata": {},
   "outputs": [
    {
     "name": "stdout",
     "output_type": "stream",
     "text": [
      "Coefficients: \n",
      " [938.23786125]\n"
     ]
    }
   ],
   "source": [
    "# The coefficients\n",
    "print(\"Coefficients: \\n\", regr.coef_)"
   ]
  },
  {
   "cell_type": "code",
   "execution_count": 58,
   "id": "9b4255fe-4fa6-4370-8c8f-dbc5cd1f5d36",
   "metadata": {},
   "outputs": [
    {
     "name": "stdout",
     "output_type": "stream",
     "text": [
      "Mean squared error: 2548.07\n"
     ]
    }
   ],
   "source": [
    "# The mean squared error\n",
    "print(\"Mean squared error: %.2f\" % mean_squared_error(diabetes_y_test, diabetes_y_pred))"
   ]
  },
  {
   "cell_type": "code",
   "execution_count": 62,
   "id": "602436b8-2d01-4927-845c-b41bec327734",
   "metadata": {},
   "outputs": [
    {
     "name": "stdout",
     "output_type": "stream",
     "text": [
      "Coefficient of determination: 0.47\n"
     ]
    }
   ],
   "source": [
    "# The coefficient of determination: 1 is perfect prediction\n",
    "print(\"Coefficient of determination: %.2f\" % r2_score(diabetes_y_test, diabetes_y_pred))"
   ]
  },
  {
   "cell_type": "code",
   "execution_count": 81,
   "id": "cb0cc606-c93c-434d-ad50-6f3d80f032db",
   "metadata": {},
   "outputs": [
    {
     "ename": "SyntaxError",
     "evalue": "invalid syntax (<ipython-input-81-89ad48ca240d>, line 3)",
     "output_type": "error",
     "traceback": [
      "\u001b[1;36m  File \u001b[1;32m\"<ipython-input-81-89ad48ca240d>\"\u001b[1;36m, line \u001b[1;32m3\u001b[0m\n\u001b[1;33m    plt.xticks((visible = False))\u001b[0m\n\u001b[1;37m                        ^\u001b[0m\n\u001b[1;31mSyntaxError\u001b[0m\u001b[1;31m:\u001b[0m invalid syntax\n"
     ]
    }
   ],
   "source": [
    "plt.scatter(diabetes_X_test, diabetes_y_test, color=\"black\")\n",
    "plt.plot(diabetes_X_test, diabetes_y_pred, color=\"blue\", linewidth=3)\n",
    "plt.xticks((visible = False))\n",
    "plt.yticks(())\n",
    "plt.show();"
   ]
  },
  {
   "cell_type": "markdown",
   "id": "195ffc10-5fbe-44a7-8b49-cc6def8a2c97",
   "metadata": {},
   "source": [
    "***\n",
    "Bibliography\n",
    "======\n",
    "***"
   ]
  },
  {
   "cell_type": "markdown",
   "id": "2c7e2e67-39f4-4721-a942-16518ddac592",
   "metadata": {},
   "source": [
    "\n",
    "https://www.markdownguide.org/basic-syntax/, retrieved on 30/10/21 <br>\n",
    "https://newbedev.com/shortcut-key-for-changing-code-cell-to-markdown-cell-in-jupyter-notebook,  retrieved on 30/10/21<br>\n",
    "https://machinelearningmastery.com/a-gentle-introduction-to-scikit-learn-a-python-machine-learning-library/, retrieved on 30/10/21<br>\n",
    "https://www.codecademy.com/articles/scikit-learn,  retrieved on 30/10/21<br>\n",
    "https://numpy.org/doc/stable/reference/random/generated/numpy.random.randint.html, retrieved on 21/1/21 </br>"
   ]
  },
  {
   "cell_type": "markdown",
   "id": "782ff2da-4885-4321-8e6a-fee90b0fb8ae",
   "metadata": {},
   "source": [
    "***\n",
    "\n",
    "# End"
   ]
  }
 ],
 "metadata": {
  "kernelspec": {
   "display_name": "Python 3",
   "language": "python",
   "name": "python3"
  },
  "language_info": {
   "codemirror_mode": {
    "name": "ipython",
    "version": 3
   },
   "file_extension": ".py",
   "mimetype": "text/x-python",
   "name": "python",
   "nbconvert_exporter": "python",
   "pygments_lexer": "ipython3",
   "version": "3.8.8"
  }
 },
 "nbformat": 4,
 "nbformat_minor": 5
}
