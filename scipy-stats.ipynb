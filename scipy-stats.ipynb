{
 "cells": [
  {
   "cell_type": "code",
   "execution_count": null,
   "id": "da86f7a9-a6ff-4f8f-ba7a-61057103df71",
   "metadata": {},
   "outputs": [],
   "source": []
  },
  {
   "cell_type": "markdown",
   "id": "bff5865a-adde-40ca-a1f3-71b4ba6ab5fe",
   "metadata": {},
   "source": [
    "what is required in order to give this file some structure that aligns it with the marking scheme:"
   ]
  },
  {
   "cell_type": "markdown",
   "id": "71e66327-a3cc-4dcb-a46e-2f3364463ef5",
   "metadata": {},
   "source": [
    "Clear and concise overview of the scipy.stat python library"
   ]
  },
  {
   "cell_type": "markdown",
   "id": "9a68093c-442a-43e8-8cee-fa799e2d3153",
   "metadata": {},
   "source": [
    "2. hypothesis teset using  ANOVA, use of an appropriate test that will allow for assumptions of ANOVA to still run in place"
   ]
  },
  {
   "cell_type": "markdown",
   "id": "a995d4e0-4c39-44b2-ad29-2ca4a7fe6251",
   "metadata": {},
   "source": [
    "3. PLots visualisations"
   ]
  },
  {
   "cell_type": "code",
   "execution_count": null,
   "id": "98deba43-e954-4e08-bc9b-0bf6f5dc82eb",
   "metadata": {},
   "outputs": [],
   "source": []
  }
 ],
 "metadata": {
  "kernelspec": {
   "display_name": "Python 3",
   "language": "python",
   "name": "python3"
  },
  "language_info": {
   "codemirror_mode": {
    "name": "ipython",
    "version": 3
   },
   "file_extension": ".py",
   "mimetype": "text/x-python",
   "name": "python",
   "nbconvert_exporter": "python",
   "pygments_lexer": "ipython3",
   "version": "3.8.8"
  }
 },
 "nbformat": 4,
 "nbformat_minor": 5
}
