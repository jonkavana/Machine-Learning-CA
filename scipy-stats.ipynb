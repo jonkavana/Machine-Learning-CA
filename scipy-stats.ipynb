{
 "cells": [
  {
   "cell_type": "markdown",
   "id": "4db144e8-70da-480f-9b74-ee47dd6cafd6",
   "metadata": {},
   "source": [
    "TO BE REMOVED WHEN COMPLETED\n",
    "What needs to be in this file, based on the marking scheme laid out in the ML&S Assessment file \n",
    "1. A clear and concise overview of the scipy.stats python library\n",
    "2. hypothesis test using ANOVA\n",
    "3. find a data set that works with ANOVA\n",
    "4. Any underlying asssumptions of ANOVA are met\n",
    "5. Plots and visualisations"
   ]
  },
  {
   "cell_type": "markdown",
   "id": "b331c262-3f24-4db8-ba6e-6e411a33088e",
   "metadata": {},
   "source": [
    "# Overview of the SciPy Package\n",
    "\n",
    "***"
   ]
  },
  {
   "cell_type": "markdown",
   "id": "bfbc50e7-597f-40ad-ad77-c8b440f4a521",
   "metadata": {},
   "source": [
    "#### *Foundation*\n",
    "SciPy is an open-source library, primarily built on the NumPy extension which in-turn uses the Python programming language that allows for the development of mathematical, scientific and engineering based coding according to [SciPy](https://scipy.github.io/devdocs/tutorial/general.html). One of the primary benefits to this meshing together or scientific methodology and programming is \"the development of additional modules in numerous niches of the software landscape by developers across the world.\" according to [SciPy.org](https://scipy.github.io/devdocs/tutorial/general.html). \n",
    "\n",
    "Some of the similarities to previous research that we have reviewed as part of the SciKit-Learn modules, displayed a reliance on and leveraging off \n",
    "- NumPy\n",
    "- MatPlotLib\n",
    "\n",
    "SciPy will also use these packages throughout the development. Other similarities are there to be seen in the structure of the SciPy Packages, which comprises of multiple sub-packages such as \n",
    "- Cluster [Official Link](https://scipy.github.io/devdocs/reference/cluster.html#module-scipy.cluster) \n",
    "- io [Official Link](https://scipy.github.io/devdocs/reference/io.html#module-scipy.io)\n",
    "- integrate [Official Link](https://scipy.github.io/devdocs/reference/integrate.html#module-scipy.integrate)\n",
    "- & Stats [Official Link](https://scipy.github.io/devdocs/reference/stats.html#module-scipy.stats)\n",
    "\n",
    "For further reading/tutorials on the above sub-packages, please see:\n",
    "[Official List of exhaustive SciPy Tutorials and Materials](https://scipy.github.io/devdocs/reference/index.html#scipy-api)\n",
    "\n",
    "#### *Structure of the SciPy.stats Package* \n",
    "Given the enormity of the overall package, the focus of this research will be focused on the [SciPy.stats](https://scipy.github.io/devdocs/reference/stats.html#module-scipy.stats) sub-package of SciPy. According to the official [site](https://docs.scipy.org/doc/scipy/reference/stats.html) the stats sub-package is primarily focused on distributions, frequency tests and statistical tests amongst others.  <br>\n",
    "\n",
    "For a given area within the stats package, a distribution for example, there will be an associated sub-class and description aligned to provide better insight and guidance on where the distribution is best used. <br>\n",
    "\n",
    "#### *First things first*\n",
    "\n",
    "There is a chance that SciPy will not come as standard to your devise, so this will need to be added in. I have been utilising the [Anaconda](https://anaconda.org/) download when creating Python scripts. SciPy is already included in versions of Anaconda, but if it is not available on your device, use the following [link](https://anaconda.org/anaconda/scipy). <br>\n",
    "\n",
    "If you are operating from a different platform, please review the material that has been supplied on the [Official site](https://scipy.org/install/)\n"
   ]
  },
  {
   "cell_type": "markdown",
   "id": "1d60a1d2-3a61-42f3-9712-fa156bebb908",
   "metadata": {},
   "source": [
    "## Library's to be imported\n",
    "***"
   ]
  },
  {
   "cell_type": "code",
   "execution_count": 1,
   "id": "22df56c0-69c9-4ff2-8c07-4c638d551187",
   "metadata": {},
   "outputs": [],
   "source": [
    "import numpy as np\n",
    "import pandas as pd\n",
    "import matplotlib.pyplot as plt\n",
    "import scipy as sp\n",
    "from scipy import stats "
   ]
  },
  {
   "cell_type": "code",
   "execution_count": 2,
   "id": "616f17fc-d4fc-4a37-a8da-e6d9532fc128",
   "metadata": {},
   "outputs": [],
   "source": [
    "from scipy.stats import dirichlet\n",
    "from scipy.stats import binom"
   ]
  },
  {
   "cell_type": "code",
   "execution_count": 3,
   "id": "c5471277-de3c-4081-93ce-a6767550ecbd",
   "metadata": {
    "tags": []
   },
   "outputs": [],
   "source": [
    "# We can also use a simple call to create an initial informaiton view from ScipPy\n",
    "# Ceditied to https://oneau.wordpress.com/2011/02/28/simple-statistics-with-scipy/\n",
    "# scipy.info(scipy.stats)"
   ]
  },
  {
   "cell_type": "markdown",
   "id": "1b80f08a-88b0-4e2a-8cc2-e0cd2444900f",
   "metadata": {},
   "source": [
    "## Analysis of SciPy.stats Module\n",
    "***"
   ]
  },
  {
   "cell_type": "code",
   "execution_count": 4,
   "id": "df089649-db1a-462a-9d3a-9b3af60caac3",
   "metadata": {},
   "outputs": [
    {
     "name": "stdout",
     "output_type": "stream",
     "text": [
      "Version of SciPy being used: 1.6.2\n"
     ]
    }
   ],
   "source": [
    "print(\"Version of SciPy being used:\", sp.__version__)"
   ]
  },
  {
   "cell_type": "markdown",
   "id": "ee4bcbd0-9ee5-4a6f-8dc4-a7bfbf277dbd",
   "metadata": {},
   "source": [
    "As mentioned in the introduction, there are several functions that can be availed of to give better insight, such as what we will detail in the following. When we speak about the area of descriptive statistics, we can create a view of several high-level but important pieces of information that some may be familiar with, such as Min, Max, Mean etc, as detailed in this post by [Prasanth Nair](https://oneau.wordpress.com/2011/02/28/simple-statistics-with-scipy/)"
   ]
  },
  {
   "cell_type": "code",
   "execution_count": 5,
   "id": "1d601892-77dc-4471-825e-c8cbc0157e51",
   "metadata": {},
   "outputs": [
    {
     "data": {
      "text/plain": [
       "array([8, 8, 6, 2, 8, 7, 2, 1, 5, 4])"
      ]
     },
     "execution_count": 5,
     "metadata": {},
     "output_type": "execute_result"
    }
   ],
   "source": [
    "# Generate an array of numbers, leveraging the numpy package\n",
    "# Generate a seed so that the results are reproducible. \n",
    "rng = np.random.seed(2)\n",
    "x = np.random.randint(10, size=10)\n",
    "x"
   ]
  },
  {
   "cell_type": "markdown",
   "id": "297ffda2-bce0-463b-a25d-64fe5aa0e9f6",
   "metadata": {},
   "source": [
    "## Descrptive Statistics /  Summary Statistics\n",
    "***"
   ]
  },
  {
   "cell_type": "code",
   "execution_count": 6,
   "id": "b5b70c07-1027-4bdc-86b7-0e461e6f6057",
   "metadata": {},
   "outputs": [
    {
     "name": "stdout",
     "output_type": "stream",
     "text": [
      "Min : 1.000000\n",
      "Max : 8.000000\n"
     ]
    }
   ],
   "source": [
    "# Use the same seed to allow for consistency in the workbook\n",
    "# call some basic functions to display the isolated values in the list\n",
    "rng = np.random.seed(2)\n",
    "print(\"Min : {0:8.6f}\".format(x.min()))\n",
    "print(\"Max : {0:8.6f}\".format(x.max()))"
   ]
  },
  {
   "cell_type": "markdown",
   "id": "3f12b660-1be8-487d-95b2-e645a19dd02e",
   "metadata": {},
   "source": [
    "We can see from the results displayed above from the array generated using NumPy, that we have a maximum value of eight, and a minimum value of one. These, although very high-level, and easily observed from a list of 10 numbers can be very useful when there are 10,000, 100,000 or 1 million observations. <br>\n",
    "These are two examples of descriptive statistics. Some of the more advanced functions we can review, now that we have a range of values know to us are: \n",
    "Variance, Standard Deviation as well as Mean\n"
   ]
  },
  {
   "cell_type": "code",
   "execution_count": 7,
   "id": "252f556c-d53f-4ef4-9fe2-00d30485a919",
   "metadata": {},
   "outputs": [
    {
     "name": "stdout",
     "output_type": "stream",
     "text": [
      "Mean : 5.100000\n",
      "Variance : 6.690000\n",
      "Std. Deviation : 2.586503\n"
     ]
    },
    {
     "name": "stderr",
     "output_type": "stream",
     "text": [
      "<ipython-input-7-1c13510129cb>:1: DeprecationWarning: scipy.mean is deprecated and will be removed in SciPy 2.0.0, use numpy.mean instead\n",
      "  print(\"Mean : {0:8.6f}\".format(sp.mean(x)))\n",
      "<ipython-input-7-1c13510129cb>:2: DeprecationWarning: scipy.var is deprecated and will be removed in SciPy 2.0.0, use numpy.var instead\n",
      "  print(\"Variance : {0:8.6f}\".format(sp.var(x)))\n",
      "<ipython-input-7-1c13510129cb>:3: DeprecationWarning: scipy.std is deprecated and will be removed in SciPy 2.0.0, use numpy.std instead\n",
      "  print(\"Std. Deviation : {0:8.6f}\".format(sp.std(x)))\n"
     ]
    }
   ],
   "source": [
    "print(\"Mean : {0:8.6f}\".format(sp.mean(x)))\n",
    "print(\"Variance : {0:8.6f}\".format(sp.var(x)))\n",
    "print(\"Std. Deviation : {0:8.6f}\".format(sp.std(x)))\n"
   ]
  },
  {
   "cell_type": "markdown",
   "id": "3918bf31-48fd-4d3f-9961-1e888bdf2de3",
   "metadata": {},
   "source": [
    "## Probability Distributions\n",
    "***"
   ]
  },
  {
   "cell_type": "markdown",
   "id": "192759d1-f0d3-4b32-8340-d9bed7f486af",
   "metadata": {},
   "source": [
    "Probability distributions are a large area within the stats module. Based off the official documentation, there are three sub-areas within probability distribution. These are: \n",
    "1. Continuous Distribution \n",
    "2. Multivariate Distribution\n",
    "3. Discrete Distribution\n",
    "<br>\n",
    "We will deal with each of these areas later, but by way of an example:"
   ]
  },
  {
   "cell_type": "markdown",
   "id": "399e04f7-b4b4-4fa0-84f4-b7a1b73bf2ed",
   "metadata": {},
   "source": [
    "##### *Continuous Distributions*\n",
    "An example of Continuous Distribution is that of the Gaussian or Normal Distribution. For a complete rundown on each of the components that have been covered off to a high-level below, please see [Prasanth Nair](https://oneau.wordpress.com/2011/02/28/simple-statistics-with-scipy/)\n",
    "\n",
    "This is also an introduction to the RVs function call, which is used when we are introducing random variables into the equation, as detailed in [datacamp.com](https://www.datacamp.com/community/tutorials/probability-distributions-python)\n"
   ]
  },
  {
   "cell_type": "code",
   "execution_count": 32,
   "id": "f76f37c7-51ee-49d7-a07e-68c64778923b",
   "metadata": {},
   "outputs": [
    {
     "data": {
      "text/plain": [
       "-0.7723921913369081"
      ]
     },
     "execution_count": 32,
     "metadata": {},
     "output_type": "execute_result"
    }
   ],
   "source": [
    "# example of a continuous distribution\n",
    "# exmaple detailed below is using Gaussian distribution\n",
    "n = stats.norm(loc=3.5, scale=2.0)\n",
    "# use of the rvs fucnction is called when utilising random variables.\n",
    "n.rvs()"
   ]
  },
  {
   "cell_type": "markdown",
   "id": "0d9bbff1-2721-4105-aec7-173daa9f14d3",
   "metadata": {},
   "source": [
    "##### *Multivariate Distributions*\n",
    "An example of a multivariate distribution is the Dirichlet distribution. According to [statisticshowto.com](https://www.statisticshowto.com/dirichlet-distribution/) the distribution can be used when attempting to model the probability mass functions that exists within the parameters between zero and one.<br>\n",
    "\n",
    "For a complete rundown on the parameters that need to be satisfied to create this distribution, please review [scipy.github.io](https://scipy.github.io/devdocs/reference/generated/scipy.stats.dirichlet.html#scipy.stats.dirichlet)<br>"
   ]
  },
  {
   "cell_type": "code",
   "execution_count": 9,
   "id": "7037d90f-084f-4763-a704-9cedf973a477",
   "metadata": {},
   "outputs": [],
   "source": [
    "# example of a multivariate distribution\n",
    "# exmaple detailed below is using Dirichlet distribution\n",
    "# Code adapted from https://scipy.github.io/devdocs/reference/generated/scipy.stats.dirichlet.html#scipy.stats.dirichlet "
   ]
  },
  {
   "cell_type": "code",
   "execution_count": 10,
   "id": "e04e4043-47fd-4f3b-b114-7189b7f93ebc",
   "metadata": {},
   "outputs": [
    {
     "data": {
      "text/plain": [
       "array([0.2, 0.2, 0.6])"
      ]
     },
     "execution_count": 10,
     "metadata": {},
     "output_type": "execute_result"
    }
   ],
   "source": [
    "quantiles = np.array([0.2, 0.2, 0.6])  # specify quantiles\n",
    "quantiles"
   ]
  },
  {
   "cell_type": "code",
   "execution_count": 11,
   "id": "74cb9e98-5bd6-4b3d-a44c-654d9896e5d4",
   "metadata": {},
   "outputs": [
    {
     "data": {
      "text/plain": [
       "array([ 0.4,  5. , 15. ])"
      ]
     },
     "execution_count": 11,
     "metadata": {},
     "output_type": "execute_result"
    }
   ],
   "source": [
    "alpha = np.array([0.4, 5, 15])  # specify concentration parameters\n",
    "alpha"
   ]
  },
  {
   "cell_type": "code",
   "execution_count": 12,
   "id": "cb7af843-c74d-41b7-9df0-8da8dd75e212",
   "metadata": {},
   "outputs": [
    {
     "data": {
      "text/plain": [
       "0.2843831684937255"
      ]
     },
     "execution_count": 12,
     "metadata": {},
     "output_type": "execute_result"
    }
   ],
   "source": [
    "dirichlet.pdf(quantiles, alpha)"
   ]
  },
  {
   "cell_type": "markdown",
   "id": "71d09ea5-0ee5-4402-baf3-aaea554db168",
   "metadata": {},
   "source": [
    "##### *Discrete Distributions*\n",
    "An example of a Discrete distribution is the binomial distribution. According to [statisticshowto.com](https://www.statisticshowto.com/probability-and-statistics/binomial-theorem/binomial-distribution-formula/) the distribution can be used when attempting to create a view of an outcome as either a success or failure.\n",
    "\n",
    "According to [Penn State Eberly College of Science](https://online.stat.psu.edu/stat800/book/export/html/658), it \"counts how often a particular event occurs in a fixed number of tries or trials\"\n",
    "\n",
    "For a complete rundown on the parameters that need to be satisfied to create this distribution, please review [scipy.github.io](https://scipy.github.io/devdocs/reference/generated/scipy.stats.binom.html#scipy.stats.binom)<br>"
   ]
  },
  {
   "cell_type": "code",
   "execution_count": 27,
   "id": "dd7d9f71-bde8-45b6-89c2-3bc895dbebae",
   "metadata": {},
   "outputs": [],
   "source": [
    "# Adapted from https://scipy.github.io/devdocs/reference/generated/scipy.stats.binom.html#scipy.stats.binom\n",
    "# Create an environment of 10 trials, and a strong likelihod for a successful outcome.\n",
    "# adapted from https://scipy.github.io/devdocs/reference/generated/scipy.stats.binom.html#scipy.stats.binom\n",
    "n, p = 100, 0.8\n",
    "mean, var, skew, kurt = binom.stats(n, p, moments='mvsk')"
   ]
  },
  {
   "cell_type": "code",
   "execution_count": 25,
   "id": "0b74052c-57aa-49b1-ba63-3bd841b7076b",
   "metadata": {},
   "outputs": [
    {
     "data": {
      "image/png": "[encoded data removed]",
      "text/plain": [
       "<Figure size 432x288 with 1 Axes>"
      ]
     },
     "metadata": {
      "needs_background": "light"
     },
     "output_type": "display_data"
    }
   ],
   "source": [
    "fig, ax = plt.subplots(1, 1)\n",
    "a = np.arange(binom.ppf(0.01, n, p),binom.ppf(0.99, n, p))\n",
    "ax.plot(a, binom.pmf(a, n, p), 'bo', ms=8, label='binom pmf')\n",
    "ax.vlines(a, 0, binom.pmf(a, n, p), colors='b', lw=5, alpha=0.5)\n",
    "plt.show;"
   ]
  },
  {
   "cell_type": "code",
   "execution_count": 30,
   "id": "47ca17e5-5494-4dab-9de5-4038a87ea3b1",
   "metadata": {},
   "outputs": [
    {
     "data": {
      "image/png": "[encoded data removed]",
      "text/plain": [
       "<Figure size 432x288 with 1 Axes>"
      ]
     },
     "metadata": {
      "needs_background": "light"
     },
     "output_type": "display_data"
    }
   ],
   "source": [
    "fig, ax = plt.subplots(1, 1)\n",
    "rv = binom(n, p)\n",
    "ax.vlines(a, 0, rv.pmf(a), colors='k', linestyles='-', lw=1,label='frozen pmf')\n",
    "ax.legend(loc='best', frameon=False)\n",
    "plt.show()"
   ]
  },
  {
   "cell_type": "markdown",
   "id": "0449e60a-5e56-449b-bd60-83789e258a88",
   "metadata": {},
   "source": [
    "## Hypothesis Test using ANOVA\n",
    "***"
   ]
  },
  {
   "cell_type": "code",
   "execution_count": null,
   "id": "efeac8bf-162e-468f-a26e-2dd35ce70143",
   "metadata": {},
   "outputs": [],
   "source": []
  },
  {
   "cell_type": "code",
   "execution_count": null,
   "id": "4407f34b-492b-487d-b478-68af3d2f646b",
   "metadata": {},
   "outputs": [],
   "source": []
  },
  {
   "cell_type": "code",
   "execution_count": null,
   "id": "a6ff1c81-9338-4873-b814-eb5b75b2d36c",
   "metadata": {},
   "outputs": [],
   "source": [
    "# this is a site that details some of the t-test information that might be needed\n",
    "# https://data-flair.training/blogs/scipy-statistical-functions/\n",
    "# https://titanwolf.org/Network/Articles/Article?AID=59b8bb57-5412-4f5a-a9c7-eef549e06522\n",
    "# https://www.javatpoint.com/scipy-stats"
   ]
  },
  {
   "cell_type": "code",
   "execution_count": null,
   "id": "0fb3adbe-ef9c-419f-aa21-76b8c8baf8bb",
   "metadata": {},
   "outputs": [],
   "source": [
    "# i think this will need to be added for reference as well as detailed in the descriptive statistics \n",
    "\n",
    "#https://www.javatpoint.com/scipy-stats"
   ]
  },
  {
   "cell_type": "code",
   "execution_count": null,
   "id": "652167fc-469f-4b11-bd92-5ff1e0073987",
   "metadata": {},
   "outputs": [],
   "source": [
    "# this might be a good source for information for fitting distributions\n",
    "\n",
    "# https://het.as.utexas.edu/HET/Software/Scipy/tutorial/stats.html"
   ]
  },
  {
   "cell_type": "code",
   "execution_count": null,
   "id": "3582741d-9cc9-4f97-a9cc-5a9506da8d93",
   "metadata": {},
   "outputs": [],
   "source": [
    "# general reference information\n",
    "\n",
    "# https://realpython.com/python-statistics/"
   ]
  },
  {
   "cell_type": "code",
   "execution_count": null,
   "id": "cbec62da-38de-422e-9bd6-660885ea2327",
   "metadata": {},
   "outputs": [],
   "source": []
  },
  {
   "cell_type": "markdown",
   "id": "a69ed5c3-d555-439b-9cf7-822766f9f99a",
   "metadata": {},
   "source": [
    "Bibliography\n",
    "======\n",
    "***"
   ]
  },
  {
   "cell_type": "markdown",
   "id": "1253e8c4-09c5-4efa-aaac-2c7953fe628c",
   "metadata": {},
   "source": [
    "https://www.w3schools.com/python/scipy/scipy_intro.php, retrieved on 22/12/21 <br>\n",
    "https://scipy.github.io/devdocs/tutorial/general.html, retrieved on 22/12/21 <br>\n",
    "https://scipy.github.io/devdocs/reference/cluster.html#module-scipy.cluster, retrieved on 22/12/21 <br>\n",
    "https://scipy.github.io/devdocs/reference/io.html#module-scipy.io, retrieved on 22/12/21 <br>\n",
    "https://scipy.github.io/devdocs/reference/integrate.html#module-scipy.integrate, retrieved on 22/12/21 <br>\n",
    "https://scipy.github.io/devdocs/reference/stats.html#module-scipy.stats, retrieved on 22/12/21 <br>\n",
    "https://docs.scipy.org/doc/scipy/reference/stats.html, retrieved on 27/12/21 <br>\n",
    "https://anaconda.org/anaconda/scipy, retrieved on 27/12/21 <br>\n",
    "https://scipy.org/install/, retrieved on 27/12/21 <br>\n",
    "https://www.w3schools.com/python/scipy/scipy_constants.php, retrieved on 27/12/21 <br>\n",
    "https://numpy.org/doc/stable/reference/random/generated/numpy.random.randint.html, retrieved on 27/12/21 <br>\n",
    "https://www.tutorialspoint.com/scipy/scipy_stats.htm, retrieved on 27/12/21 <br>\n",
    "https://www.youtube.com/watch?v=POX2mNWvb8Y, retrieved on 27/12/21 <br>\n",
    "https://oneau.wordpress.com/2011/02/28/simple-statistics-with-scipy/, retrieved on 27/12/21 <br>\n",
    "https://www.sciencedirect.com/topics/mathematics/dirichlet-distribution, retrieved on 27/12/21 <br>\n",
    "https://scipy.github.io/devdocs/reference/generated/scipy.stats.dirichlet.html#scipy.stats.dirichlet, retrieved on 27/12/21 <br>\n",
    "https://scipy.github.io/devdocs/reference/generated/scipy.stats.binom.html#scipy.stats.binom, retrieved on 27/12/21 <br>\n",
    "https://www.statisticshowto.com/dirichlet-distribution, retrieved on 27/12/21 <br>\n",
    "https://www.statisticshowto.com/probability-and-statistics/binomial-theorem/binomial-distribution-formula/, retrieved on 27/12/21 <br>\n",
    "https://scipy.github.io/devdocs/reference/generated/scipy.stats.binom.html#scipy.stats.binom, retrieved on 27/12/21 <br>\n",
    "https://online.stat.psu.edu/stat800/book/export/html/658, retrieved on 27/12/21 <br>\n",
    "https://www.datacamp.com/community/tutorials/probability-distributions-python, retrieved on 28/12/21 <br>\n",
    ", retrieved on 28/12/21 <br>\n",
    ", retrieved on 28/12/21 <br>\n",
    ", retrieved on 28/12/21 <br>"
   ]
  },
  {
   "cell_type": "markdown",
   "id": "b7fee40f-1e9a-4350-b5e4-3da5efd12279",
   "metadata": {},
   "source": [
    "***\n",
    "\n",
    "# End"
   ]
  }
 ],
 "metadata": {
  "kernelspec": {
   "display_name": "Python 3",
   "language": "python",
   "name": "python3"
  },
  "language_info": {
   "codemirror_mode": {
    "name": "ipython",
    "version": 3
   },
   "file_extension": ".py",
   "mimetype": "text/x-python",
   "name": "python",
   "nbconvert_exporter": "python",
   "pygments_lexer": "ipython3",
   "version": "3.8.8"
  }
 },
 "nbformat": 4,
 "nbformat_minor": 5
}
