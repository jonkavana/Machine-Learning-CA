{
 "cells": [
  {
   "cell_type": "markdown",
   "id": "4db144e8-70da-480f-9b74-ee47dd6cafd6",
   "metadata": {},
   "source": [
    "TO BE REMOVED WHEN COMPLETED\n",
    "What needs to be in this file, based on the marking scheme laid out in the ML&S Assessment file \n",
    "1. A clear and concise overview of the scipy.stats python library\n",
    "2. hypothesis test using ANOVA\n",
    "3. find a data set that works with ANOVA\n",
    "4. Any underlying asssumptions of ANOVA are met\n",
    "5. Plots and visualisations"
   ]
  },
  {
   "cell_type": "markdown",
   "id": "b331c262-3f24-4db8-ba6e-6e411a33088e",
   "metadata": {},
   "source": [
    "# Overview of the SciPy Package\n",
    "\n",
    "***"
   ]
  },
  {
   "cell_type": "markdown",
   "id": "bfbc50e7-597f-40ad-ad77-c8b440f4a521",
   "metadata": {},
   "source": [
    "#### *Foundation*\n",
    "SciPy is an open source libary, prinmarlily built on the Numpy extension which in-turn uses the Python programming language that allows for the development of mathematical, scientific and engineering based coding according to [SciPy](https://scipy.github.io/devdocs/tutorial/general.html). One of the primary benefits to this meshing together or scientific methodology and programming is \"the development of additional modules in numerous niches of the software landscape by developers across the world.\" according to [SciPy.org](https://scipy.github.io/devdocs/tutorial/general.html). \n",
    "\n",
    "Some of the similarites to previous research that we aghve reviewed as part of the SciKit-Learn modules, displayed a reliance on and leveraging off of \n",
    "- Numpy\n",
    "- MatPlotLib\n",
    "\n",
    "SciPy will also use these packages throughout the development. Other similarities are there to be seen in the structure of the SciPy Packages, which comprises of multiple sub-packages such as \n",
    "- Cluster [Official Link](https://scipy.github.io/devdocs/reference/cluster.html#module-scipy.cluster) \n",
    "- io [Official Link](https://scipy.github.io/devdocs/reference/io.html#module-scipy.io)\n",
    "- integrate [Official Link](https://scipy.github.io/devdocs/reference/integrate.html#module-scipy.integrate)\n",
    "- & Stats [Official Link](https://scipy.github.io/devdocs/reference/stats.html#module-scipy.stats)\n",
    "\n",
    "For further reading/tutorials on the above sub-packages, please see:\n",
    "[Offical List of exhustive SciPy Tutorails and Materials](https://scipy.github.io/devdocs/reference/index.html#scipy-api)\n",
    "\n",
    "#### *Structure of the SciPy.stats Package* \n",
    "The focus of this research will be focused on the [SciPy.stats](https://scipy.github.io/devdocs/reference/stats.html#module-scipy.stats) sub-package of SciPy.\n",
    "\n",
    "#### *First things first*\n",
    "\n",
    "Learn from others have failed to avoid loss of time"
   ]
  },
  {
   "cell_type": "markdown",
   "id": "1d60a1d2-3a61-42f3-9712-fa156bebb908",
   "metadata": {},
   "source": [
    "## Libraries that need to be used in conjunction with SciPy.stats\n",
    "***"
   ]
  },
  {
   "cell_type": "code",
   "execution_count": 1,
   "id": "22df56c0-69c9-4ff2-8c07-4c638d551187",
   "metadata": {},
   "outputs": [],
   "source": [
    "import numpy as np\n",
    "import pandas as pd\n",
    "import matplotlib.pyplot as plt\n",
    "import scipy"
   ]
  },
  {
   "cell_type": "markdown",
   "id": "1b80f08a-88b0-4e2a-8cc2-e0cd2444900f",
   "metadata": {},
   "source": [
    "## Analysis of SciPy Libraries\n",
    "***"
   ]
  },
  {
   "cell_type": "code",
   "execution_count": 2,
   "id": "ae5c195b-0f35-4430-8767-0d41b26a14b8",
   "metadata": {},
   "outputs": [
    {
     "ename": "AttributeError",
     "evalue": "module 'scipy' has no attribute 'special'",
     "output_type": "error",
     "traceback": [
      "\u001b[1;31m---------------------------------------------------------------------------\u001b[0m",
      "\u001b[1;31mAttributeError\u001b[0m                            Traceback (most recent call last)",
      "\u001b[1;32m<ipython-input-2-779e131196af>\u001b[0m in \u001b[0;36m<module>\u001b[1;34m\u001b[0m\n\u001b[1;32m----> 1\u001b[1;33m \u001b[0mscipy\u001b[0m\u001b[1;33m.\u001b[0m\u001b[0mspecial\u001b[0m\u001b[1;33m\u001b[0m\u001b[1;33m\u001b[0m\u001b[0m\n\u001b[0m",
      "\u001b[1;31mAttributeError\u001b[0m: module 'scipy' has no attribute 'special'"
     ]
    }
   ],
   "source": [
    "scipy.special "
   ]
  },
  {
   "cell_type": "markdown",
   "id": "a69ed5c3-d555-439b-9cf7-822766f9f99a",
   "metadata": {},
   "source": [
    "Bibliography\n",
    "======\n",
    "***"
   ]
  },
  {
   "cell_type": "markdown",
   "id": "1253e8c4-09c5-4efa-aaac-2c7953fe628c",
   "metadata": {},
   "source": [
    "https://www.w3schools.com/python/scipy/scipy_intro.php, retrieved on 22/12/21\n",
    "https://scipy.github.io/devdocs/tutorial/general.html, retrieved on 22/12/21\n",
    "https://scipy.github.io/devdocs/reference/cluster.html#module-scipy.cluster, retrieved on 22/12/21\n",
    "https://scipy.github.io/devdocs/reference/io.html#module-scipy.io, retrieved on 22/12/21\n",
    "https://scipy.github.io/devdocs/reference/integrate.html#module-scipy.integrate, retrieved on 22/12/21\n",
    "https://scipy.github.io/devdocs/reference/stats.html#module-scipy.stats, retrieved on 22/12/21\n",
    ", retrieved on 22/12/21\n",
    ", retrieved on 22/12/21\n",
    ", retrieved on 22/12/21"
   ]
  },
  {
   "cell_type": "markdown",
   "id": "b7fee40f-1e9a-4350-b5e4-3da5efd12279",
   "metadata": {},
   "source": [
    "***\n",
    "\n",
    "# End"
   ]
  }
 ],
 "metadata": {
  "kernelspec": {
   "display_name": "Python 3",
   "language": "python",
   "name": "python3"
  },
  "language_info": {
   "codemirror_mode": {
    "name": "ipython",
    "version": 3
   },
   "file_extension": ".py",
   "mimetype": "text/x-python",
   "name": "python",
   "nbconvert_exporter": "python",
   "pygments_lexer": "ipython3",
   "version": "3.8.8"
  }
 },
 "nbformat": 4,
 "nbformat_minor": 5
}
