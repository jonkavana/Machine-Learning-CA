{
 "cells": [
  {
   "cell_type": "markdown",
   "id": "4db144e8-70da-480f-9b74-ee47dd6cafd6",
   "metadata": {},
   "source": [
    "TO BE REMOVED WHEN COMPLETED\n",
    "What needs to be in this file, based on the marking scheme laid out in the ML&S Assessment file \n",
    "1. A clear and concise overview of the scipy.stats python library\n",
    "2. hypothesis test using ANOVA\n",
    "3. find a data set that works with ANOVA\n",
    "4. Any underlying asssumptions of ANOVA are met\n",
    "5. Plots and visualisations"
   ]
  },
  {
   "cell_type": "markdown",
   "id": "b331c262-3f24-4db8-ba6e-6e411a33088e",
   "metadata": {},
   "source": [
    "# Overview of the SciPy Package\n",
    "\n",
    "***"
   ]
  },
  {
   "cell_type": "markdown",
   "id": "bfbc50e7-597f-40ad-ad77-c8b440f4a521",
   "metadata": {},
   "source": [
    "#### *Foundation*\n",
    "SciPy is an open source libary, prinmarlily built on the Numpy extension which in-turn uses the Python programming language that allows for the development of mathematical, scientific and engineering based coding according to [SciPy](https://scipy.github.io/devdocs/tutorial/general.html). One of the primary benefits to this meshing together or scientific methodology and programming is \"the development of additional modules in numerous niches of the software landscape by developers across the world.\" according to [SciPy.org](https://scipy.github.io/devdocs/tutorial/general.html). \n",
    "\n",
    "Some of the similarites to previous research that we aghve reviewed as part of the SciKit-Learn modules, displayed a reliance on and leveraging off of \n",
    "- Numpy\n",
    "- MatPlotLib\n",
    "\n",
    "SciPy will also use these packages throughout the development. Other similarities are there to be seen in the structure of the SciPy Packages, which comprises of multiple sub-packages such as \n",
    "- Cluster [Official Link](https://scipy.github.io/devdocs/reference/cluster.html#module-scipy.cluster) \n",
    "- io [Official Link](https://scipy.github.io/devdocs/reference/io.html#module-scipy.io)\n",
    "- integrate [Official Link](https://scipy.github.io/devdocs/reference/integrate.html#module-scipy.integrate)\n",
    "- & Stats [Official Link](https://scipy.github.io/devdocs/reference/stats.html#module-scipy.stats)\n",
    "\n",
    "For further reading/tutorials on the above sub-packages, please see:\n",
    "[Offical List of exhustive SciPy Tutorails and Materials](https://scipy.github.io/devdocs/reference/index.html#scipy-api)\n",
    "\n",
    "#### *Structure of the SciPy.stats Package* \n",
    "Given the enormity of the overall package, the focus of this research will be focused on the [SciPy.stats](https://scipy.github.io/devdocs/reference/stats.html#module-scipy.stats) sub-package of SciPy.According to the official [site](https://docs.scipy.org/doc/scipy/reference/stats.html) the stats sub-package is primarily focused on distributions, frequency tests and statistical tests amongst others.  <br>\n",
    "\n",
    "For a given area within the stats package, a distribution for example, there will be an associated sub-class and description aligned to provide better insight and guidance on where the distribution is best used. <br>\n",
    "\n",
    "#### *First things first*\n",
    "\n",
    "There is a chance that SciPy will not come as standard to your devise, so this will need to be added in. I have been utilising the [Anaconda](https://anaconda.org/) download when creating Python scripts. Scipy is already included in versions of Anaconda, but if it is not available on your device, use the following [link](https://anaconda.org/anaconda/scipy). <br>\n",
    "\n",
    "If you are operating from a different platform, please review the material that has been supplied on the [Official site](https://scipy.org/install/)"
   ]
  },
  {
   "cell_type": "markdown",
   "id": "1d60a1d2-3a61-42f3-9712-fa156bebb908",
   "metadata": {},
   "source": [
    "## Libraries that need to be used in conjunction with SciPy.stats\n",
    "***"
   ]
  },
  {
   "cell_type": "code",
   "execution_count": 1,
   "id": "22df56c0-69c9-4ff2-8c07-4c638d551187",
   "metadata": {},
   "outputs": [],
   "source": [
    "import numpy as np\n",
    "import pandas as pd\n",
    "import matplotlib.pyplot as plt\n",
    "import scipy"
   ]
  },
  {
   "cell_type": "markdown",
   "id": "1b80f08a-88b0-4e2a-8cc2-e0cd2444900f",
   "metadata": {},
   "source": [
    "## Analysis of SciPy Libraries\n",
    "***"
   ]
  },
  {
   "cell_type": "code",
   "execution_count": 8,
   "id": "cc7b80db-4313-47f2-b489-b6b83e688428",
   "metadata": {},
   "outputs": [],
   "source": [
    "from scipy import stats "
   ]
  },
  {
   "cell_type": "code",
   "execution_count": 12,
   "id": "df089649-db1a-462a-9d3a-9b3af60caac3",
   "metadata": {},
   "outputs": [
    {
     "name": "stdout",
     "output_type": "stream",
     "text": [
      "Version of SciPy being used: 1.6.2\n"
     ]
    }
   ],
   "source": [
    "# print(info.stats)\n",
    "print(\"Version of SciPy being used:\", scipy.__version__)"
   ]
  },
  {
   "cell_type": "markdown",
   "id": "ee4bcbd0-9ee5-4a6f-8dc4-a7bfbf277dbd",
   "metadata": {},
   "source": [
    "As mentioned in the introduction, there are a number of funcitons that can be availed of to give better insight, such as what we will detail in the following. "
   ]
  },
  {
   "cell_type": "code",
   "execution_count": 18,
   "id": "1d601892-77dc-4471-825e-c8cbc0157e51",
   "metadata": {},
   "outputs": [],
   "source": [
    "# Generate an array of numbers, leveraging the numpy package\n",
    "x = np.random.randint(10, size=10)"
   ]
  },
  {
   "cell_type": "code",
   "execution_count": 19,
   "id": "17859146-91ce-4c97-af8f-cc41d12f48be",
   "metadata": {},
   "outputs": [
    {
     "data": {
      "text/plain": [
       "array([7, 0, 7, 8, 1, 4, 4, 2, 7, 2])"
      ]
     },
     "execution_count": 19,
     "metadata": {},
     "output_type": "execute_result"
    }
   ],
   "source": [
    "x"
   ]
  },
  {
   "cell_type": "code",
   "execution_count": 22,
   "id": "b5b70c07-1027-4bdc-86b7-0e461e6f6057",
   "metadata": {},
   "outputs": [
    {
     "ename": "SyntaxError",
     "evalue": "invalid syntax (<ipython-input-22-7361164c064e>, line 1)",
     "output_type": "error",
     "traceback": [
      "\u001b[1;36m  File \u001b[1;32m\"<ipython-input-22-7361164c064e>\"\u001b[1;36m, line \u001b[1;32m1\u001b[0m\n\u001b[1;33m    print x.max()\u001b[0m\n\u001b[1;37m          ^\u001b[0m\n\u001b[1;31mSyntaxError\u001b[0m\u001b[1;31m:\u001b[0m invalid syntax\n"
     ]
    }
   ],
   "source": [
    "print x.max()"
   ]
  },
  {
   "cell_type": "code",
   "execution_count": null,
   "id": "6af421a2-1b54-4bac-84a2-5b3c9a79a084",
   "metadata": {},
   "outputs": [],
   "source": []
  },
  {
   "cell_type": "code",
   "execution_count": null,
   "id": "ef3e2466-611e-4e87-a8fb-90baa9b4f1af",
   "metadata": {},
   "outputs": [],
   "source": []
  },
  {
   "cell_type": "markdown",
   "id": "0449e60a-5e56-449b-bd60-83789e258a88",
   "metadata": {},
   "source": [
    "## Hypothesis Test using ANOVA\n",
    "***"
   ]
  },
  {
   "cell_type": "code",
   "execution_count": null,
   "id": "efeac8bf-162e-468f-a26e-2dd35ce70143",
   "metadata": {},
   "outputs": [],
   "source": []
  },
  {
   "cell_type": "markdown",
   "id": "a69ed5c3-d555-439b-9cf7-822766f9f99a",
   "metadata": {},
   "source": [
    "Bibliography\n",
    "======\n",
    "***"
   ]
  },
  {
   "cell_type": "markdown",
   "id": "1253e8c4-09c5-4efa-aaac-2c7953fe628c",
   "metadata": {},
   "source": [
    "https://www.w3schools.com/python/scipy/scipy_intro.php, retrieved on 22/12/21 <br>\n",
    "https://scipy.github.io/devdocs/tutorial/general.html, retrieved on 22/12/21 <br>\n",
    "https://scipy.github.io/devdocs/reference/cluster.html#module-scipy.cluster, retrieved on 22/12/21 <br>\n",
    "https://scipy.github.io/devdocs/reference/io.html#module-scipy.io, retrieved on 22/12/21 <br>\n",
    "https://scipy.github.io/devdocs/reference/integrate.html#module-scipy.integrate, retrieved on 22/12/21 <br>\n",
    "https://scipy.github.io/devdocs/reference/stats.html#module-scipy.stats, retrieved on 22/12/21 <br>\n",
    "https://docs.scipy.org/doc/scipy/reference/stats.html, retrieved on 27/12/21 <br>\n",
    "https://anaconda.org/anaconda/scipy, retrieved on 27/12/21 <br>\n",
    "https://scipy.org/install/, retrieved on 27/12/21 <br>\n",
    "https://www.w3schools.com/python/scipy/scipy_constants.php, retrieved on 27/12/21 <br>\n",
    "https://numpy.org/doc/stable/reference/random/generated/numpy.random.randint.html, retrieved on 27/12/21 <br>\n",
    "https://www.tutorialspoint.com/scipy/scipy_stats.htm, retrieved on 27/12/21 <br>\n",
    ", retrieved on 27/12/21 <br>\n",
    ", retrieved on 27/12/21 <br>\n",
    ", retrieved on 27/12/21 <br>\n",
    ", retrieved on 27/12/21 <br>"
   ]
  },
  {
   "cell_type": "markdown",
   "id": "b7fee40f-1e9a-4350-b5e4-3da5efd12279",
   "metadata": {},
   "source": [
    "***\n",
    "\n",
    "# End"
   ]
  }
 ],
 "metadata": {
  "kernelspec": {
   "display_name": "Python 3",
   "language": "python",
   "name": "python3"
  },
  "language_info": {
   "codemirror_mode": {
    "name": "ipython",
    "version": 3
   },
   "file_extension": ".py",
   "mimetype": "text/x-python",
   "name": "python",
   "nbconvert_exporter": "python",
   "pygments_lexer": "ipython3",
   "version": "3.8.8"
  }
 },
 "nbformat": 4,
 "nbformat_minor": 5
}
