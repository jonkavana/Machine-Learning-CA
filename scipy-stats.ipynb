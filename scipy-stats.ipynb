{
 "cells": [
  {
   "cell_type": "markdown",
   "id": "b331c262-3f24-4db8-ba6e-6e411a33088e",
   "metadata": {},
   "source": [
    "# Overview of the SciPy Package\n",
    "\n",
    "***"
   ]
  },
  {
   "cell_type": "markdown",
   "id": "bfbc50e7-597f-40ad-ad77-c8b440f4a521",
   "metadata": {},
   "source": [
    "#### *Foundation*\n",
    "SciPy is an open-source library, primarily built on the NumPy extension which in-turn uses the Python programming language that allows for the development of mathematical, scientific and engineering based coding according to [SciPy](https://scipy.github.io/devdocs/tutorial/general.html). One of the primary benefits to this meshing together or scientific methodology and programming is \"the development of additional modules in numerous niches of the software landscape by developers across the world.\" according to [SciPy.org](https://scipy.github.io/devdocs/tutorial/general.html). \n",
    "\n",
    "Some of the similarities to previous research that we have reviewed as part of the SciKit-Learn modules, displayed a reliance on and leveraging off \n",
    "- NumPy\n",
    "- MatPlotLib\n",
    "\n",
    "SciPy will also use these packages throughout the development. Other similarities are there to be seen in the structure of the SciPy Packages, which comprises of multiple sub-packages such as \n",
    "- Cluster [Official Link](https://scipy.github.io/devdocs/reference/cluster.html#module-scipy.cluster) \n",
    "- io [Official Link](https://scipy.github.io/devdocs/reference/io.html#module-scipy.io)\n",
    "- integrate [Official Link](https://scipy.github.io/devdocs/reference/integrate.html#module-scipy.integrate)\n",
    "- & Stats [Official Link](https://scipy.github.io/devdocs/reference/stats.html#module-scipy.stats)\n",
    "\n",
    "For further reading/tutorials on the above sub-packages, please see:\n",
    "[Official List of exhaustive SciPy Tutorials and Materials](https://scipy.github.io/devdocs/reference/index.html#scipy-api)\n",
    "\n",
    "#### *Structure of the SciPy.stats Package* \n",
    "Given the enormity of the overall package, the focus of this research will be focused on the [SciPy.stats](https://scipy.github.io/devdocs/reference/stats.html#module-scipy.stats) sub-package of SciPy. According to the official [site](https://docs.scipy.org/doc/scipy/reference/stats.html) the stats sub-package is primarily focused on distributions, frequency tests and statistical tests amongst others.  <br>\n",
    "\n",
    "For a given area within the stats package, a distribution for example, there will be an associated sub-class and description aligned to provide better insight and guidance on where the distribution is best used. <br>\n",
    "\n",
    "#### *First things first*\n",
    "\n",
    "There is a chance that SciPy will not come as standard to your devise, so this will need to be added in. I have been utilising the [Anaconda](https://anaconda.org/) download when creating Python scripts. SciPy is already included in versions of Anaconda, but if it is not available on your device, use the following [link](https://anaconda.org/anaconda/scipy). <br>\n",
    "\n",
    "If you are operating from a different platform, please review the material that has been supplied on the [Official site](https://scipy.org/install/)\n"
   ]
  },
  {
   "cell_type": "markdown",
   "id": "1d60a1d2-3a61-42f3-9712-fa156bebb908",
   "metadata": {},
   "source": [
    "## Library's to be imported\n",
    "***"
   ]
  },
  {
   "cell_type": "code",
   "execution_count": 1,
   "id": "22df56c0-69c9-4ff2-8c07-4c638d551187",
   "metadata": {},
   "outputs": [],
   "source": [
    "# Number generation\n",
    "import numpy as np\n",
    "# Data frames\n",
    "import pandas as pd\n",
    "# data visualisation\n",
    "import matplotlib.pyplot as plt\n",
    "# statistics package and distribution capability\n",
    "import scipy as sp\n",
    "from scipy import stats \n",
    "from scipy.stats import dirichlet\n",
    "from scipy.stats import binom\n",
    "import statsmodels.api as sm\n",
    "from statsmodels.formula.api import ols\n",
    "from bioinfokit.analys import stat"
   ]
  },
  {
   "cell_type": "code",
   "execution_count": 2,
   "id": "c5471277-de3c-4081-93ce-a6767550ecbd",
   "metadata": {
    "tags": []
   },
   "outputs": [],
   "source": [
    "# We can also use a simple call to create an initial informaiton view from ScipPy\n",
    "# Creditied to https://oneau.wordpress.com/2011/02/28/simple-statistics-with-scipy/\n",
    "# scipy.info(scipy.stats)"
   ]
  },
  {
   "cell_type": "markdown",
   "id": "1b80f08a-88b0-4e2a-8cc2-e0cd2444900f",
   "metadata": {},
   "source": [
    "## Analysis of SciPy.stats Module\n",
    "***"
   ]
  },
  {
   "cell_type": "code",
   "execution_count": 3,
   "id": "df089649-db1a-462a-9d3a-9b3af60caac3",
   "metadata": {},
   "outputs": [
    {
     "name": "stdout",
     "output_type": "stream",
     "text": [
      "Version of SciPy being used: 1.6.2\n"
     ]
    }
   ],
   "source": [
    "print(\"Version of SciPy being used:\", sp.__version__)"
   ]
  },
  {
   "cell_type": "markdown",
   "id": "ee4bcbd0-9ee5-4a6f-8dc4-a7bfbf277dbd",
   "metadata": {},
   "source": [
    "As mentioned in the introduction, there are several functions that can be availed of to give better insight, such as what we will detail in the following. When we speak about the area of descriptive statistics, we can create a view of several high-level but important pieces of information that some may be familiar with, such as Min, Max, Mean etc, as detailed in this post by [Prasanth Nair](https://oneau.wordpress.com/2011/02/28/simple-statistics-with-scipy/)"
   ]
  },
  {
   "cell_type": "code",
   "execution_count": 4,
   "id": "1d601892-77dc-4471-825e-c8cbc0157e51",
   "metadata": {},
   "outputs": [
    {
     "data": {
      "text/plain": [
       "array([8, 8, 6, 2, 8, 7, 2, 1, 5, 4])"
      ]
     },
     "execution_count": 4,
     "metadata": {},
     "output_type": "execute_result"
    }
   ],
   "source": [
    "# Generate an array of numbers, leveraging the numpy package\n",
    "# Generate a seed so that the results are reproducible. \n",
    "rng = np.random.seed(2)\n",
    "x = np.random.randint(10, size=10)\n",
    "x"
   ]
  },
  {
   "cell_type": "markdown",
   "id": "297ffda2-bce0-463b-a25d-64fe5aa0e9f6",
   "metadata": {},
   "source": [
    "## Summary Statistics\n",
    "***"
   ]
  },
  {
   "cell_type": "code",
   "execution_count": 5,
   "id": "b5b70c07-1027-4bdc-86b7-0e461e6f6057",
   "metadata": {},
   "outputs": [
    {
     "name": "stdout",
     "output_type": "stream",
     "text": [
      "Min : 1.000000\n",
      "Max : 8.000000\n"
     ]
    }
   ],
   "source": [
    "# Use the same seed to allow for consistency in the workbook\n",
    "# call some basic functions to display the isolated values in the list\n",
    "rng = np.random.seed(2)\n",
    "print(\"Min : {0:8.6f}\".format(x.min()))\n",
    "print(\"Max : {0:8.6f}\".format(x.max()))"
   ]
  },
  {
   "cell_type": "markdown",
   "id": "3f12b660-1be8-487d-95b2-e645a19dd02e",
   "metadata": {},
   "source": [
    "We can see from the results displayed above from the array generated using NumPy, that we have a maximum value of eight, and a minimum value of one. These, although very high-level, and easily observed from a list of 10 numbers can be very useful when there are 10,000, 100,000 or 1 million observations. <br>\n",
    "These are just two examples of descriptive statistics. Some of the more advanced functions we can review, now that we have a range of values know to us are: \n",
    "Variance, Standard Deviation as well as Mean. Descriptive statistics, as detailed in [RealPython](https://realpython.com/python-statistics/) is about the description and summation of data, as contained within two separate approaches: Quantitative & Viusal. Given that Scipy is built on top of the Numpy Library, we can leverage off the Numpy modules. Previous versions of SciPy were supported, but have since deprecated. "
   ]
  },
  {
   "cell_type": "code",
   "execution_count": 6,
   "id": "98496bc8-c32b-4167-848a-8cadf897f40d",
   "metadata": {},
   "outputs": [
    {
     "name": "stdout",
     "output_type": "stream",
     "text": [
      "Mean : 5.100000\n",
      "Variance : 6.690000\n",
      "Std. Deviation : 2.586503\n"
     ]
    }
   ],
   "source": [
    "print(\"Mean : {0:8.6f}\".format(np.mean(x)))\n",
    "print(\"Variance : {0:8.6f}\".format(np.var(x)))\n",
    "print(\"Std. Deviation : {0:8.6f}\".format(np.std(x)))"
   ]
  },
  {
   "cell_type": "markdown",
   "id": "3918bf31-48fd-4d3f-9961-1e888bdf2de3",
   "metadata": {},
   "source": [
    "## Probability Distributions\n",
    "***"
   ]
  },
  {
   "cell_type": "markdown",
   "id": "192759d1-f0d3-4b32-8340-d9bed7f486af",
   "metadata": {},
   "source": [
    "Probability distributions are a large area within the stats module. Based off the official documentation, there are three sub-areas within probability distribution. These are: \n",
    "1. Continuous Distribution \n",
    "2. Multivariate Distribution\n",
    "3. Discrete Distribution\n",
    "<br>\n",
    "We will deal with each of these areas later, but by way of an example:"
   ]
  },
  {
   "cell_type": "markdown",
   "id": "399e04f7-b4b4-4fa0-84f4-b7a1b73bf2ed",
   "metadata": {},
   "source": [
    "##### *1.Continuous Distributions*\n",
    "An example of Continuous Distribution is that of the Gaussian or Normal Distribution. For a complete rundown on each of the components that have been covered off to a high-level below, please see [Prasanth Nair](https://oneau.wordpress.com/2011/02/28/simple-statistics-with-scipy/). This is also an introduction to the RVs function call, which is used when we are introducing random variables into the equation, as detailed in [datacamp.com](https://www.datacamp.com/community/tutorials/probability-distributions-python)."
   ]
  },
  {
   "cell_type": "code",
   "execution_count": 7,
   "id": "f76f37c7-51ee-49d7-a07e-68c64778923b",
   "metadata": {},
   "outputs": [
    {
     "data": {
      "text/plain": [
       "2.6664843051890585"
      ]
     },
     "execution_count": 7,
     "metadata": {},
     "output_type": "execute_result"
    }
   ],
   "source": [
    "# example of a continuous distribution\n",
    "# exmaple detailed below is using Gaussian distribution\n",
    "n = stats.norm(loc=3.5, scale=2.0)\n",
    "# use of the rvs fucnction is called to draw a random variable.\n",
    "n.rvs()"
   ]
  },
  {
   "cell_type": "markdown",
   "id": "0d9bbff1-2721-4105-aec7-173daa9f14d3",
   "metadata": {},
   "source": [
    "##### *2.Multivariate Distributions*\n",
    "An example of a multivariate distribution is the Dirichlet distribution. According to [statisticshowto.com](https://www.statisticshowto.com/dirichlet-distribution/) the distribution can be used when attempting to model the probability mass functions that exists within the parameters between zero and one.<br>\n",
    "\n",
    "For a complete rundown on the parameters that need to be satisfied to create this distribution, please review [scipy.github.io](https://scipy.github.io/devdocs/reference/generated/scipy.stats.dirichlet.html#scipy.stats.dirichlet)<br>\n",
    "Code adapted from https://scipy.github.io/devdocs/reference/generated/scipy.stats.dirichlet.html#scipy.stats.dirichlet "
   ]
  },
  {
   "cell_type": "code",
   "execution_count": 8,
   "id": "e04e4043-47fd-4f3b-b114-7189b7f93ebc",
   "metadata": {},
   "outputs": [
    {
     "data": {
      "text/plain": [
       "array([0.2, 0.2, 0.6])"
      ]
     },
     "execution_count": 8,
     "metadata": {},
     "output_type": "execute_result"
    }
   ],
   "source": [
    "# specify quantiles\n",
    "quantiles = np.array([0.2, 0.2, 0.6])\n",
    "quantiles"
   ]
  },
  {
   "cell_type": "code",
   "execution_count": 9,
   "id": "74cb9e98-5bd6-4b3d-a44c-654d9896e5d4",
   "metadata": {},
   "outputs": [
    {
     "data": {
      "text/plain": [
       "array([ 0.4,  5. , 15. ])"
      ]
     },
     "execution_count": 9,
     "metadata": {},
     "output_type": "execute_result"
    }
   ],
   "source": [
    "# specify concentration parameters\n",
    "alpha = np.array([0.4, 5, 15])\n",
    "alpha"
   ]
  },
  {
   "cell_type": "code",
   "execution_count": 10,
   "id": "cb7af843-c74d-41b7-9df0-8da8dd75e212",
   "metadata": {},
   "outputs": [
    {
     "data": {
      "text/plain": [
       "0.2843831684937255"
      ]
     },
     "execution_count": 10,
     "metadata": {},
     "output_type": "execute_result"
    }
   ],
   "source": [
    "# Pass in both parameters to prouduce a Dirichlet random variable result\n",
    "dirichlet.pdf(quantiles, alpha)"
   ]
  },
  {
   "cell_type": "markdown",
   "id": "71d09ea5-0ee5-4402-baf3-aaea554db168",
   "metadata": {},
   "source": [
    "##### *3.Discrete Distributions*\n",
    "An example of a Discrete distribution is the binomial distribution. According to [statisticshowto.com](https://www.statisticshowto.com/probability-and-statistics/binomial-theorem/binomial-distribution-formula/) the distribution can be used when attempting to create a view of an outcome as either a success or failure. According to [Penn State Eberly College of Science](https://online.stat.psu.edu/stat800/book/export/html/658), it \"counts how often a particular event occurs in a fixed number of tries or trials\".\n",
    "For a complete rundown on the parameters that need to be satisfied to create this distribution, please review [scipy.github.io](https://scipy.github.io/devdocs/reference/generated/scipy.stats.binom.html#scipy.stats.binom).<br> Adapted from https://scipy.github.io/devdocs/reference/generated/scipy.stats.binom.html#scipy.stats.binom"
   ]
  },
  {
   "cell_type": "code",
   "execution_count": 11,
   "id": "dd7d9f71-bde8-45b6-89c2-3bc895dbebae",
   "metadata": {},
   "outputs": [],
   "source": [
    "# Create an environment of 10 trials, and a strong likelihod for a successful outcome.\n",
    "n, p = 5, 0.4"
   ]
  },
  {
   "cell_type": "code",
   "execution_count": 12,
   "id": "68ab88b4-5851-4133-8d2e-a63f96f89914",
   "metadata": {},
   "outputs": [],
   "source": [
    "# Create four moments\n",
    "mean, var, skew, kurt = binom.stats(n, p, moments='mvsk')"
   ]
  },
  {
   "cell_type": "code",
   "execution_count": 13,
   "id": "0b74052c-57aa-49b1-ba63-3bd841b7076b",
   "metadata": {},
   "outputs": [
    {
     "data": {
      "image/png": "[encoded data removed]",
      "text/plain": [
       "<Figure size 432x288 with 1 Axes>"
      ]
     },
     "metadata": {
      "needs_background": "light"
     },
     "output_type": "display_data"
    }
   ],
   "source": [
    "# Display the results\n",
    "fig, ax = plt.subplots(1, 1)\n",
    "a = np.arange(binom.ppf(0.01, n, p),binom.ppf(0.99, n, p))\n",
    "\n",
    "\n",
    "ax.plot(a, binom.pmf(a, n, p), 'bo', ms=8, label='binom pmf')\n",
    "ax.vlines(a, 0, binom.pmf(a, n, p), colors='b', lw=5, alpha=0.5)\n",
    "rv = binom(n, p)\n",
    "ax.vlines(a, 0, rv.pmf(a), colors='k', linestyles='-', lw=1,label='frozen pmf')\n",
    "ax.legend(loc='best', frameon=False)\n",
    "plt.show;"
   ]
  },
  {
   "cell_type": "markdown",
   "id": "0449e60a-5e56-449b-bd60-83789e258a88",
   "metadata": {},
   "source": [
    "## Hypothesis Test using ANOVA\n",
    "***"
   ]
  },
  {
   "cell_type": "markdown",
   "id": "58580b07-b610-4d12-83e4-7b20b4d69124",
   "metadata": {},
   "source": [
    "Before we begin to expand on our knowledge of datasets and how we can manipulate them with the SciPy library,it is important to comprehend the fact there are some ground rules for testing. ANOVA, or ANalysis Of VAriance as it is otherwise known has some underlying assumptions that need to be met in order efferectively execute the previous statement. \n",
    "\n",
    "According to [qualtrics.com](https://www.qualtrics.com/uk/experience-management/research/anova/),a leader in the area of market analysis, there are only 2 assumptions that need to be met when completing an ANOVA test. The first being that the sample being collected are normally distributed, and secondly that the sampled population has a variance of s-squared. Unfortunately, this is not an exhaustive list of information, and all six are detailed by the [Laerd Statistics](https://statistics.laerd.com/spss-tutorials/one-way-anova-using-spss-statistics.php) site.\n",
    "\n",
    "##### Assumptions of ANOVA\n",
    "> 1. Dependent variable within the set needs to be in the interval, such as time or weight <br>\n",
    "> 2. Dependent variable must also be normally distributed, which was one of the rules highlighted previously <br>\n",
    "> 3. Independent variable needs to consist of two or more categorial groupings,such as gender or ethnicity<br>\n",
    "> 4. Independence of observations within each group, such that each participant can only be in one group and no more <br>\n",
    "> 5. No outliers can be observed in the set <br>\n",
    "> 6. Homogeneity of variances, which is a test that can be completed using the Levene Test or Bartlett Test <br>\n",
    "\n",
    "Fortunatley, [Levene's Test](https://docs.scipy.org/doc/scipy/reference/generated/scipy.stats.levene.html) is part of the SciPy library and is used when there is not a normal distribution. If it is to be from a normal distribution, then we use the Bartlett Test. \n",
    "\n",
    "The ANOVA is of importance because it seeks to compare the variance of this one dependent variable whilst observing the multiple independent variables at play according to [Technology Networks](https://www.technologynetworks.com/informatics/articles/one-way-vs-two-way-anova-definition-differences-assumptions-and-hypotheses-306553)."
   ]
  },
  {
   "cell_type": "markdown",
   "id": "f79f7c1b-b270-4713-9c0e-a0245f8f8fcb",
   "metadata": {},
   "source": [
    "## Importing our dataset\n",
    "***"
   ]
  },
  {
   "cell_type": "markdown",
   "id": "d322eb0e-765e-4bdf-987e-232117d69b5d",
   "metadata": {},
   "source": [
    "As part of the research into this topic, i came across some interesting research that was being conducted by [Texas A&M AgriLife Research](https://agriliferesearch.tamu.edu/) in relation to Insect-Vectored Diseases and the problems that they on crops and soil. Whilst reviewing this material, I came across the work of [Dr. Renesh Bedre](https://www.reneshbedre.com/about/) and the work he undertakes with Python located [here](https://www.reneshbedre.com/blog/anova.html).\n",
    "The code below has been adapted based on the dataser that he has created when undertaking an ANOVA test"
   ]
  },
  {
   "cell_type": "code",
   "execution_count": 14,
   "id": "4407f34b-492b-487d-b478-68af3d2f646b",
   "metadata": {},
   "outputs": [
    {
     "data": {
      "text/html": [
       "<div>\n",
       "<style scoped>\n",
       "    .dataframe tbody tr th:only-of-type {\n",
       "        vertical-align: middle;\n",
       "    }\n",
       "\n",
       "    .dataframe tbody tr th {\n",
       "        vertical-align: top;\n",
       "    }\n",
       "\n",
       "    .dataframe thead th {\n",
       "        text-align: right;\n",
       "    }\n",
       "</style>\n",
       "<table border=\"1\" class=\"dataframe\">\n",
       "  <thead>\n",
       "    <tr style=\"text-align: right;\">\n",
       "      <th></th>\n",
       "      <th>A</th>\n",
       "      <th>B</th>\n",
       "      <th>C</th>\n",
       "      <th>D</th>\n",
       "    </tr>\n",
       "  </thead>\n",
       "  <tbody>\n",
       "    <tr>\n",
       "      <th>0</th>\n",
       "      <td>25</td>\n",
       "      <td>45</td>\n",
       "      <td>30</td>\n",
       "      <td>54</td>\n",
       "    </tr>\n",
       "    <tr>\n",
       "      <th>1</th>\n",
       "      <td>30</td>\n",
       "      <td>55</td>\n",
       "      <td>29</td>\n",
       "      <td>60</td>\n",
       "    </tr>\n",
       "    <tr>\n",
       "      <th>2</th>\n",
       "      <td>28</td>\n",
       "      <td>29</td>\n",
       "      <td>33</td>\n",
       "      <td>51</td>\n",
       "    </tr>\n",
       "    <tr>\n",
       "      <th>3</th>\n",
       "      <td>36</td>\n",
       "      <td>56</td>\n",
       "      <td>37</td>\n",
       "      <td>62</td>\n",
       "    </tr>\n",
       "    <tr>\n",
       "      <th>4</th>\n",
       "      <td>29</td>\n",
       "      <td>40</td>\n",
       "      <td>27</td>\n",
       "      <td>73</td>\n",
       "    </tr>\n",
       "  </tbody>\n",
       "</table>\n",
       "</div>"
      ],
      "text/plain": [
       "    A   B   C   D\n",
       "0  25  45  30  54\n",
       "1  30  55  29  60\n",
       "2  28  29  33  51\n",
       "3  36  56  37  62\n",
       "4  29  40  27  73"
      ]
     },
     "execution_count": 14,
     "metadata": {},
     "output_type": "execute_result"
    }
   ],
   "source": [
    "df = pd.read_csv(\"https://reneshbedre.github.io/assets/posts/anova/onewayanova.txt\", sep=\"\\t\")\n",
    "df"
   ]
  },
  {
   "cell_type": "markdown",
   "id": "e0cbc2c6-2edd-4d09-8320-eeb1346dd231",
   "metadata": {},
   "source": [
    "We can see from the table above that there are four types or treatments, labelled across the top as A, B, C & D. For each of these treatments, there is also an associated value that has been captured, with each number representing a an individual event. "
   ]
  },
  {
   "cell_type": "markdown",
   "id": "fba1c4ad-0d9f-4382-abce-45eb3094ed02",
   "metadata": {},
   "source": [
    "## Analysing the dataset\n",
    "***"
   ]
  },
  {
   "cell_type": "code",
   "execution_count": 15,
   "id": "973d2bc3-cfd2-42f9-b960-9280942a095d",
   "metadata": {},
   "outputs": [],
   "source": [
    "# reshape the dataframe suitable for statsmodels package \n",
    "df_melt = pd.melt(df.reset_index(), id_vars=['index'], value_vars=['A', 'B', 'C', 'D'])\n",
    "# replace column names\n",
    "df_melt.columns = ['index', 'treatments', 'value']"
   ]
  },
  {
   "cell_type": "code",
   "execution_count": 16,
   "id": "f288808f-ce6c-4bc9-9b2b-0000879fb977",
   "metadata": {},
   "outputs": [
    {
     "data": {
      "image/png": "[encoded data removed]",
      "text/plain": [
       "<Figure size 432x288 with 1 Axes>"
      ]
     },
     "metadata": {
      "needs_background": "light"
     },
     "output_type": "display_data"
    }
   ],
   "source": [
    "# generate a boxplot to see the data distribution by treatments. Using boxplot, we can \n",
    "# easily detect the differences between different treatments and isolate any outliers.\n",
    "import matplotlib.pyplot as plt\n",
    "import seaborn as sns\n",
    "ax = sns.boxplot(x='treatments', y='value', data=df_melt, color='#99c2a2')\n",
    "ax = sns.swarmplot(x=\"treatments\", y=\"value\", data=df_melt, color='#7d0013')\n",
    "# Make the plots bigger.\n",
    "plt.rcParams['figure.figsize'] = (10.0, 10.0)\n",
    "plt.show()"
   ]
  },
  {
   "cell_type": "markdown",
   "id": "78fc36e8-b68d-4028-a675-1b8dd2b77def",
   "metadata": {},
   "source": [
    "We can see from the table in the above diagram that there are no outliers that reside outside of the datasets parameters. This is another assumption of the ANOVA test that has been satiisfied. "
   ]
  },
  {
   "cell_type": "code",
   "execution_count": 17,
   "id": "e56e4cb2-1ece-430b-a3a8-63f0760fedd3",
   "metadata": {},
   "outputs": [
    {
     "name": "stdout",
     "output_type": "stream",
     "text": [
      "17.492810457516338 2.639241146210922e-05\n"
     ]
    }
   ],
   "source": [
    "# stats f_oneway functions takes the groups as input and returns ANOVA F and p value\n",
    "fvalue, pvalue = stats.f_oneway(df['A'], df['B'], df['C'], df['D'])\n",
    "print(fvalue, pvalue)"
   ]
  },
  {
   "cell_type": "markdown",
   "id": "7a3363ad-afcb-42af-91c9-04592748016d",
   "metadata": {},
   "source": [
    "Given that we now have associated values for both the pvalue & fvalue, we can determine what they mean through the rules and their interpretations hosted on [MiniTab Express Support](https://support.minitab.com/en-us/minitab-express/1/help-and-how-to/modeling-statistics/anova/how-to/one-way-anova/interpret-the-results/all-statistics-and-graphs/). \n",
    "\n",
    "We can determine if there are or aren't statisitcally significant. If the pvalue is less than 5%, we can say that there is statistical significance. \n",
    "\n",
    "The fvalue is inversly related to pvalue, and as such validates the pvalue. The greater the fvalue, the more significant the pvalue. "
   ]
  },
  {
   "cell_type": "code",
   "execution_count": 18,
   "id": "8920be80-c24b-4234-8b20-dc9ae8dee6b7",
   "metadata": {},
   "outputs": [
    {
     "data": {
      "text/plain": [
       "0    25\n",
       "1    30\n",
       "2    28\n",
       "3    36\n",
       "4    29\n",
       "Name: A, dtype: int64"
      ]
     },
     "execution_count": 18,
     "metadata": {},
     "output_type": "execute_result"
    }
   ],
   "source": [
    "dependent = df['A']\n",
    "dependent"
   ]
  },
  {
   "cell_type": "code",
   "execution_count": 19,
   "id": "51863c68-759c-4dfe-a510-10bb43d4a198",
   "metadata": {},
   "outputs": [
    {
     "data": {
      "text/plain": [
       "Index(['A', 'B', 'C', 'D'], dtype='object')"
      ]
     },
     "execution_count": 19,
     "metadata": {},
     "output_type": "execute_result"
    }
   ],
   "source": [
    "independent = df.columns\n",
    "independent"
   ]
  },
  {
   "cell_type": "code",
   "execution_count": 20,
   "id": "f80c25b0-7a76-42f6-a11a-e23c730ac1b3",
   "metadata": {},
   "outputs": [
    {
     "data": {
      "text/html": [
       "<div>\n",
       "<style scoped>\n",
       "    .dataframe tbody tr th:only-of-type {\n",
       "        vertical-align: middle;\n",
       "    }\n",
       "\n",
       "    .dataframe tbody tr th {\n",
       "        vertical-align: top;\n",
       "    }\n",
       "\n",
       "    .dataframe thead th {\n",
       "        text-align: right;\n",
       "    }\n",
       "</style>\n",
       "<table border=\"1\" class=\"dataframe\">\n",
       "  <thead>\n",
       "    <tr style=\"text-align: right;\">\n",
       "      <th></th>\n",
       "      <th>sum_sq</th>\n",
       "      <th>df</th>\n",
       "      <th>F</th>\n",
       "      <th>PR(&gt;F)</th>\n",
       "    </tr>\n",
       "  </thead>\n",
       "  <tbody>\n",
       "    <tr>\n",
       "      <th>C(treatments)</th>\n",
       "      <td>3010.95</td>\n",
       "      <td>3.0</td>\n",
       "      <td>17.49281</td>\n",
       "      <td>0.000026</td>\n",
       "    </tr>\n",
       "    <tr>\n",
       "      <th>Residual</th>\n",
       "      <td>918.00</td>\n",
       "      <td>16.0</td>\n",
       "      <td>NaN</td>\n",
       "      <td>NaN</td>\n",
       "    </tr>\n",
       "  </tbody>\n",
       "</table>\n",
       "</div>"
      ],
      "text/plain": [
       "                sum_sq    df         F    PR(>F)\n",
       "C(treatments)  3010.95   3.0  17.49281  0.000026\n",
       "Residual        918.00  16.0       NaN       NaN"
      ]
     },
     "execution_count": 20,
     "metadata": {},
     "output_type": "execute_result"
    }
   ],
   "source": [
    "# get ANOVA table as R like output\n",
    "import statsmodels.api as sm\n",
    "from statsmodels.formula.api import ols\n",
    "# Ordinary Least Squares (OLS) model\n",
    "model = ols('value ~ C(treatments)', data=df_melt).fit()\n",
    "anova_table = sm.stats.anova_lm(model, typ=2)\n",
    "anova_table"
   ]
  },
  {
   "cell_type": "markdown",
   "id": "e393e08e-351a-4856-9757-06c245861f04",
   "metadata": {},
   "source": [
    " In order to effectively undertake this analysis, we need to import some new modules, that do not come as standard in the Anaconda package. \n",
    " \n",
    "> Package instructions can be viewed [here](https://reneshbedre.github.io/blog/howtoinstall.html)<br>\n",
    ">Anaconda has also verified [here](https://anaconda.org/bioconda/bioinfokit)\n",
    " "
   ]
  },
  {
   "cell_type": "code",
   "execution_count": 21,
   "id": "ba0e569b-1125-454c-a365-f662649fe537",
   "metadata": {},
   "outputs": [
    {
     "data": {
      "text/html": [
       "<div>\n",
       "<style scoped>\n",
       "    .dataframe tbody tr th:only-of-type {\n",
       "        vertical-align: middle;\n",
       "    }\n",
       "\n",
       "    .dataframe tbody tr th {\n",
       "        vertical-align: top;\n",
       "    }\n",
       "\n",
       "    .dataframe thead th {\n",
       "        text-align: right;\n",
       "    }\n",
       "</style>\n",
       "<table border=\"1\" class=\"dataframe\">\n",
       "  <thead>\n",
       "    <tr style=\"text-align: right;\">\n",
       "      <th></th>\n",
       "      <th>df</th>\n",
       "      <th>sum_sq</th>\n",
       "      <th>mean_sq</th>\n",
       "      <th>F</th>\n",
       "      <th>PR(&gt;F)</th>\n",
       "    </tr>\n",
       "  </thead>\n",
       "  <tbody>\n",
       "    <tr>\n",
       "      <th>C(treatments)</th>\n",
       "      <td>3.0</td>\n",
       "      <td>3010.95</td>\n",
       "      <td>1003.650</td>\n",
       "      <td>17.49281</td>\n",
       "      <td>0.000026</td>\n",
       "    </tr>\n",
       "    <tr>\n",
       "      <th>Residual</th>\n",
       "      <td>16.0</td>\n",
       "      <td>918.00</td>\n",
       "      <td>57.375</td>\n",
       "      <td>NaN</td>\n",
       "      <td>NaN</td>\n",
       "    </tr>\n",
       "  </tbody>\n",
       "</table>\n",
       "</div>"
      ],
      "text/plain": [
       "                 df   sum_sq   mean_sq         F    PR(>F)\n",
       "C(treatments)   3.0  3010.95  1003.650  17.49281  0.000026\n",
       "Residual       16.0   918.00    57.375       NaN       NaN"
      ]
     },
     "execution_count": 21,
     "metadata": {},
     "output_type": "execute_result"
    }
   ],
   "source": [
    "# Create a summary table of the information. \n",
    "from bioinfokit.analys import stat\n",
    "res = stat()\n",
    "res.anova_stat(df=df_melt, res_var='value', anova_model='value ~ C(treatments)')\n",
    "res.anova_summary"
   ]
  },
  {
   "cell_type": "code",
   "execution_count": 22,
   "id": "4b31bae6-f4d3-4f97-a696-ac5c25536413",
   "metadata": {},
   "outputs": [
    {
     "data": {
      "image/png": "[encoded data removed]",
      "text/plain": [
       "<Figure size 720x720 with 1 Axes>"
      ]
     },
     "metadata": {
      "needs_background": "light"
     },
     "output_type": "display_data"
    }
   ],
   "source": [
    "# res.anova_std_residuals are standardized residuals obtained from ANOVA (check above)\n",
    "sm.qqplot(res.anova_std_residuals, line='45')\n",
    "plt.xlabel(\"Theoretical Quantiles\")\n",
    "plt.ylabel(\"Standardized Residuals\")\n",
    "plt.show()"
   ]
  },
  {
   "cell_type": "markdown",
   "id": "cd4838bb-a74a-4a54-bdcf-43f1beadde2b",
   "metadata": {},
   "source": [
    "Based on the graph above, given that all of the incidents reside along the line, and not significantlty either side of itm we cab determine that this a normal distribution."
   ]
  },
  {
   "cell_type": "code",
   "execution_count": 23,
   "id": "145870f5-6394-4873-adfc-3250fc66971d",
   "metadata": {},
   "outputs": [
    {
     "data": {
      "image/png": "[encoded data removed]",
      "text/plain": [
       "<Figure size 720x720 with 1 Axes>"
      ]
     },
     "metadata": {
      "needs_background": "light"
     },
     "output_type": "display_data"
    }
   ],
   "source": [
    "# histogram\n",
    "plt.hist(res.anova_model_out.resid, bins='auto', histtype='bar', ec='k') \n",
    "plt.xlabel(\"Residuals\")\n",
    "plt.ylabel('Frequency')\n",
    "plt.show()"
   ]
  },
  {
   "cell_type": "markdown",
   "id": "6fe7b903-e8b8-4f25-aa5c-d153bde38ca0",
   "metadata": {},
   "source": [
    "The residuals that are displayed in the diagram above are normally distribued, which maintain the ANOVA assumptions."
   ]
  },
  {
   "cell_type": "markdown",
   "id": "be6d17db-0472-4b25-95b2-e01e84e85a71",
   "metadata": {},
   "source": [
    "### Test of Normal Distribution\n",
    "***"
   ]
  },
  {
   "cell_type": "code",
   "execution_count": 24,
   "id": "a064a6f8-9236-4ddd-aa5e-8ad6a396bcc7",
   "metadata": {},
   "outputs": [
    {
     "name": "stdout",
     "output_type": "stream",
     "text": [
      "0.9685019850730896 0.7229772806167603\n"
     ]
    }
   ],
   "source": [
    "w, pvalue = stats.shapiro(model.resid)\n",
    "print(w, pvalue)\n",
    "# 0.9685019850730896 0.7229772806167603"
   ]
  },
  {
   "cell_type": "markdown",
   "id": "6292767e-cc74-445a-99b2-e338d4aef89b",
   "metadata": {},
   "source": [
    "The test that is being performed in the cell above is known as the Shapiro-Wilk Test. Taking in the parameters above, as well as the outcomes, we apply the same standards as before in relation to the pvalue. Given that this pvalue is greater than 5%, we can say that this is not significant.In turn, we reject to fail the null hypothesis and declare that this is a normal distribution. "
   ]
  },
  {
   "cell_type": "markdown",
   "id": "b73e12c4-a7a7-4496-80f7-a033c641f972",
   "metadata": {},
   "source": [
    "### Test of Homogeneity of Variances\n",
    "***"
   ]
  },
  {
   "cell_type": "code",
   "execution_count": 25,
   "id": "ae7ea807-8229-4fbb-8ef2-905ddc99e02b",
   "metadata": {},
   "outputs": [
    {
     "data": {
      "text/html": [
       "<div>\n",
       "<style scoped>\n",
       "    .dataframe tbody tr th:only-of-type {\n",
       "        vertical-align: middle;\n",
       "    }\n",
       "\n",
       "    .dataframe tbody tr th {\n",
       "        vertical-align: top;\n",
       "    }\n",
       "\n",
       "    .dataframe thead th {\n",
       "        text-align: right;\n",
       "    }\n",
       "</style>\n",
       "<table border=\"1\" class=\"dataframe\">\n",
       "  <thead>\n",
       "    <tr style=\"text-align: right;\">\n",
       "      <th></th>\n",
       "      <th>Parameter</th>\n",
       "      <th>Value</th>\n",
       "    </tr>\n",
       "  </thead>\n",
       "  <tbody>\n",
       "    <tr>\n",
       "      <th>0</th>\n",
       "      <td>Test statistics (T)</td>\n",
       "      <td>5.6878</td>\n",
       "    </tr>\n",
       "    <tr>\n",
       "      <th>1</th>\n",
       "      <td>Degrees of freedom (Df)</td>\n",
       "      <td>3.0000</td>\n",
       "    </tr>\n",
       "    <tr>\n",
       "      <th>2</th>\n",
       "      <td>p value</td>\n",
       "      <td>0.1278</td>\n",
       "    </tr>\n",
       "  </tbody>\n",
       "</table>\n",
       "</div>"
      ],
      "text/plain": [
       "                 Parameter   Value\n",
       "0      Test statistics (T)  5.6878\n",
       "1  Degrees of freedom (Df)  3.0000\n",
       "2                  p value  0.1278"
      ]
     },
     "execution_count": 25,
     "metadata": {},
     "output_type": "execute_result"
    }
   ],
   "source": [
    "from bioinfokit.analys import stat \n",
    "res = stat()\n",
    "res.bartlett(df=df_melt, res_var='value', xfac_var='treatments')\n",
    "res.bartlett_summary"
   ]
  },
  {
   "cell_type": "markdown",
   "id": "77657940-0a7e-4bde-b0a2-4b7a82793e2c",
   "metadata": {},
   "source": [
    "Null hypothesis data is drawn from populations of equal variances. as the pvalue is 0.12, we fail to reject the null hypothesis. We can, in turn, declare that the treatments have equal variance.   "
   ]
  },
  {
   "cell_type": "markdown",
   "id": "3ae2bc0c-b910-4e27-b438-fcac135b4ab9",
   "metadata": {},
   "source": [
    "### Test of Homogeneity of Variances\n",
    "***"
   ]
  },
  {
   "cell_type": "markdown",
   "id": "1811d1b2-c258-4317-9737-4e3eeea0e9aa",
   "metadata": {},
   "source": [
    "Given that there are 6 assumptions that need to be satisfed to pass the ANOVA test, we have successfully displayed results that satisfy all 6 cases.  "
   ]
  },
  {
   "cell_type": "markdown",
   "id": "a69ed5c3-d555-439b-9cf7-822766f9f99a",
   "metadata": {},
   "source": [
    "Bibliography\n",
    "======\n",
    "***"
   ]
  },
  {
   "cell_type": "markdown",
   "id": "1253e8c4-09c5-4efa-aaac-2c7953fe628c",
   "metadata": {},
   "source": [
    "https://www.w3schools.com/python/scipy/scipy_intro.php, retrieved on 22/12/21 <br>\n",
    "https://scipy.github.io/devdocs/tutorial/general.html, retrieved on 22/12/21 <br>\n",
    "https://scipy.github.io/devdocs/reference/cluster.html#module-scipy.cluster, retrieved on 22/12/21 <br>\n",
    "https://scipy.github.io/devdocs/reference/io.html#module-scipy.io, retrieved on 22/12/21 <br>\n",
    "https://scipy.github.io/devdocs/reference/integrate.html#module-scipy.integrate, retrieved on 22/12/21 <br>\n",
    "https://scipy.github.io/devdocs/reference/stats.html#module-scipy.stats, retrieved on 22/12/21 <br>\n",
    "https://docs.scipy.org/doc/scipy/reference/stats.html, retrieved on 27/12/21 <br>\n",
    "https://anaconda.org/anaconda/scipy, retrieved on 27/12/21 <br>\n",
    "https://scipy.org/install/, retrieved on 27/12/21 <br>\n",
    "https://www.w3schools.com/python/scipy/scipy_constants.php, retrieved on 27/12/21 <br>\n",
    "https://numpy.org/doc/stable/reference/random/generated/numpy.random.randint.html, retrieved on 27/12/21 <br>\n",
    "https://www.tutorialspoint.com/scipy/scipy_stats.htm, retrieved on 27/12/21 <br>\n",
    "https://www.youtube.com/watch?v=POX2mNWvb8Y, retrieved on 27/12/21 <br>\n",
    "https://oneau.wordpress.com/2011/02/28/simple-statistics-with-scipy/, retrieved on 27/12/21 <br>\n",
    "https://www.sciencedirect.com/topics/mathematics/dirichlet-distribution, retrieved on 27/12/21 <br>\n",
    "https://scipy.github.io/devdocs/reference/generated/scipy.stats.dirichlet.html#scipy.stats.dirichlet, retrieved on 27/12/21 <br>\n",
    "https://scipy.github.io/devdocs/reference/generated/scipy.stats.binom.html#scipy.stats.binom, retrieved on 27/12/21 <br>\n",
    "https://www.statisticshowto.com/dirichlet-distribution, retrieved on 27/12/21 <br>\n",
    "https://www.statisticshowto.com/probability-and-statistics/binomial-theorem/binomial-distribution-formula/, retrieved on 27/12/21 <br>\n",
    "https://scipy.github.io/devdocs/reference/generated/scipy.stats.binom.html#scipy.stats.binom, retrieved on 27/12/21 <br>\n",
    "https://online.stat.psu.edu/stat800/book/export/html/658, retrieved on 27/12/21 <br>\n",
    "https://www.datacamp.com/community/tutorials/probability-distributions-python, retrieved on 28/12/21 <br>\n",
    "https://www.qualtrics.com/uk/experience-management/research/anova/, retrieved on 31/12/21 <br>\n",
    "https://statistics.laerd.com/spss-tutorials/one-way-anova-using-spss-statistics.php, retrieved on 31/12/21 <br>\n",
    "https://docs.scipy.org/doc/scipy/reference/generated/scipy.stats.levene.html, retrieved on 31/12/21 <br>\n",
    "https://www.technologynetworks.com/informatics/articles/one-way-vs-two-way-anova-definition-differences-assumptions-and-hypotheses-306553, retrieved on 31/12/21 <br>\n",
    "https://agriliferesearch.tamu.edu/research-priorities/insect-vectored-diseases/, retrieved on 31/12/21 <br>\n",
    "https://agriliferesearch.tamu.edu/, retrieved on 31/12/21 <br>\n",
    "https://www.reneshbedre.com/about/, retrieved on 31/12/21 <br>\n",
    "https://reneshbedre.github.io/, retrieved on 31/12/21 <br>\n",
    "https://www.reneshbedre.com/blog/anova.html, retrieved on 31/12/21 <br>\n",
    "https://anaconda.org/bioconda/bioinfokit, retrieved on 31/12/21 <br>\n",
    "https://reneshbedre.github.io/blog/howtoinstall.html, retrieved on 31/12/21 <br>\n",
    "https://www.ibm.com/docs/en/spss-statistics/24.0.0?topic=variables-level-measurement, retrieved on 31/12/21 <br>\n",
    "https://statistics.laerd.com/spss-tutorials/one-way-anova-using-spss-statistics.php, retrieved on 31/12/21 <br>\n",
    "https://realpython.com/python-statistics/, retrieved on 31/12/21 <br>\n",
    "https://support.minitab.com/en-us/minitab-express/1/help-and-how-to/modeling-statistics/anova/how-to/one-way-anova/interpret-the-results/all-statistics-and-graphs/, retrieved on 31/12/21 <br>\n",
    "https://pandas.pydata.org/docs/reference/api/pandas.DataFrame.columns.html#pandas.DataFrame.columns, retrieved on 31/12/21 <br>\n",
    "https://www.reneshbedre.com/blog/anova.html, retrieved on 02/1/21 <br>"
   ]
  },
  {
   "cell_type": "markdown",
   "id": "b7fee40f-1e9a-4350-b5e4-3da5efd12279",
   "metadata": {},
   "source": [
    "***\n",
    "\n",
    "# End"
   ]
  }
 ],
 "metadata": {
  "kernelspec": {
   "display_name": "Python 3",
   "language": "python",
   "name": "python3"
  },
  "language_info": {
   "codemirror_mode": {
    "name": "ipython",
    "version": 3
   },
   "file_extension": ".py",
   "mimetype": "text/x-python",
   "name": "python",
   "nbconvert_exporter": "python",
   "pygments_lexer": "ipython3",
   "version": "3.8.8"
  }
 },
 "nbformat": 4,
 "nbformat_minor": 5
}
